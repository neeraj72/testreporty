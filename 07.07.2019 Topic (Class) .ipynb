{
 "cells": [
  {
   "cell_type": "code",
   "execution_count": 1,
   "metadata": {},
   "outputs": [],
   "source": [
    "class Car():\n",
    "    def __init__(self,make,model,year = 2019):\n",
    "        self.make = make\n",
    "        self.model = model\n",
    "        self.year = year\n",
    "        self.odometer_reading = 0\n",
    "    def description(self):\n",
    "        full_name = f'the name of the car is {self.make} {self.model} {self.year}'\n",
    "        return full_name\n",
    "    def read_odometer(self):\n",
    "        print(f'The car has run {self.odometer_reading} miles')\n",
    "    def update_odometer(self,mileage):\n",
    "         self.odometer_reading = mileage"
   ]
  },
  {
   "cell_type": "code",
   "execution_count": 1,
   "metadata": {},
   "outputs": [],
   "source": [
    "customers = [ \n",
    "    { \"customer id\": 0, \"first name\":\"John\", \"last name\": \"Ogden\", \"address\": \"301 Arbor Rd.\", }, \n",
    "    { \"customer id\": 1, \"first name\":\"Ann\", \"last name\": \"Sattermyer\", \"address\": \"PO Box 1145\", },\n",
    "    { \"customer id\": 2, \"first name\":\"Jill\", \"last name\": \"Somers\", \"address\": \"3 Main St.\", },\n",
    "] "
   ]
  },
  {
   "cell_type": "code",
   "execution_count": 6,
   "metadata": {},
   "outputs": [
    {
     "name": "stdout",
     "output_type": "stream",
     "text": [
      "{'customer id': 0, 'first name': 'John', 'last name': 'Ogden', 'address': '301 Arbor Rd.'}\n",
      "301 Arbor Rd.\n"
     ]
    }
   ],
   "source": [
    "x = customers[0]\n",
    "customer_address = customers[0][\"address\"]\n",
    "print(x)\n",
    "print(customer_address)"
   ]
  },
  {
   "cell_type": "code",
   "execution_count": 16,
   "metadata": {},
   "outputs": [],
   "source": [
    "new_customer_id = 3\n",
    "new_first_name = \"neeraj\"\n",
    "new_last_name = \"kumar\"\n",
    "new_address = \"Sukkur\"\n",
    "new_dictionary = { \"customer id\": new_customer_id, \n",
    "                  \"first name\": new_first_name,\n",
    "                  \"last name\": new_last_name,\n",
    "                  \"address\": new_address,  \n",
    "                  \"discounts\": [\"standard\", \"volume\", \"loyalty\"],\n",
    "                 }  \n"
   ]
  },
  {
   "cell_type": "code",
   "execution_count": 17,
   "metadata": {},
   "outputs": [],
   "source": [
    "customers.append(new_dictionary)"
   ]
  },
  {
   "cell_type": "code",
   "execution_count": 18,
   "metadata": {},
   "outputs": [
    {
     "name": "stdout",
     "output_type": "stream",
     "text": [
      "[{'customer id': 0, 'first name': 'John', 'last name': 'Ogden', 'address': '301 Arbor Rd.'}, {'customer id': 1, 'first name': 'Ann', 'last name': 'Sattermyer', 'address': 'PO Box 1145'}, {'customer id': 2, 'first name': 'Jill', 'last name': 'Somers', 'address': '3 Main St.'}, ['standard', 'volume', 'loyalty'], {'customer id': 3, 'first name': 'neeraj', 'last name': 'kumar', 'address': 'Sukkur'}, {'customer id': 3, 'first name': 'neeraj', 'last name': 'kumar', 'address': 'Sukkur', 'discounts': ['standard', 'volume', 'loyalty']}]\n"
     ]
    }
   ],
   "source": [
    "print(customers)"
   ]
  },
  {
   "cell_type": "code",
   "execution_count": 2,
   "metadata": {},
   "outputs": [
    {
     "name": "stdout",
     "output_type": "stream",
     "text": [
      "44.55\n"
     ]
    }
   ],
   "source": [
    "x = float(43.55+2/2)\n",
    "print(x)"
   ]
  },
  {
   "cell_type": "code",
   "execution_count": 3,
   "metadata": {},
   "outputs": [],
   "source": [
    "list1=['customer id', 'first name', 'John', 'last name', 'Ogden', 'address', '301 Arbor Rd.']"
   ]
  },
  {
   "cell_type": "code",
   "execution_count": 4,
   "metadata": {},
   "outputs": [
    {
     "ename": "NameError",
     "evalue": "name 'random' is not defined",
     "output_type": "error",
     "traceback": [
      "\u001b[1;31m---------------------------------------------------------------------------\u001b[0m",
      "\u001b[1;31mNameError\u001b[0m                                 Traceback (most recent call last)",
      "\u001b[1;32m<ipython-input-4-7a402b089d41>\u001b[0m in \u001b[0;36m<module>\u001b[1;34m\u001b[0m\n\u001b[1;32m----> 1\u001b[1;33m \u001b[0mrandom\u001b[0m\u001b[1;33m.\u001b[0m\u001b[0mshuffle\u001b[0m\u001b[1;33m(\u001b[0m\u001b[0mlist1\u001b[0m\u001b[1;33m)\u001b[0m\u001b[1;33m\u001b[0m\u001b[1;33m\u001b[0m\u001b[0m\n\u001b[0m",
      "\u001b[1;31mNameError\u001b[0m: name 'random' is not defined"
     ]
    }
   ],
   "source": [
    "random.shuffle(list1)"
   ]
  },
  {
   "cell_type": "code",
   "execution_count": 6,
   "metadata": {},
   "outputs": [
    {
     "name": "stdout",
     "output_type": "stream",
     "text": [
      "[1, 2, 3, 4]\n",
      "None\n",
      "True\n",
      "False\n"
     ]
    }
   ],
   "source": [
    "a=[1,2,3] \n",
    "b=a.append(4) \n",
    "print(a) \n",
    "print(b)\n",
    "\n",
    "word1=\"Apple\" \n",
    "word2=\"Apple\" \n",
    "list1=[1,2,3] \n",
    "list2=[1,2,3] \n",
    "print(word1 is word2) \n",
    "print(list1 is list2)\n"
   ]
  },
  {
   "cell_type": "code",
   "execution_count": 16,
   "metadata": {},
   "outputs": [
    {
     "name": "stdout",
     "output_type": "stream",
     "text": [
      "e\n",
      "o\n"
     ]
    },
    {
     "data": {
      "text/plain": [
       "[1, 2, 4, 8, 16, 32, 64, 128, 256, 512, 1024, 2048, 4096]"
      ]
     },
     "execution_count": 16,
     "metadata": {},
     "output_type": "execute_result"
    }
   ],
   "source": [
    "w=\"hello\" \n",
    "v=('a', 'e', 'i', 'o', 'u')\n",
    "for x in w:\n",
    "    if x in v:\n",
    "        print(x)\n",
    "\n",
    "\n",
    "[i for i in range(1, 101) if int(i*0.5) == i*0.5]\n",
    "\n",
    "\n",
    "[(2**x) for x in range(0, 13)]"
   ]
  },
  {
   "cell_type": "markdown",
   "metadata": {},
   "source": [
    "class  ElectricCar(Car):\n",
    "    #eCar = ElectricCar()\n",
    "    def __init__(self,make,model,year):\n",
    "        super().__init__(make,model,year)\n",
    "my_tesla = ElectricCar('tesla', 'Model',2016)"
   ]
  },
  {
   "cell_type": "code",
   "execution_count": 3,
   "metadata": {},
   "outputs": [],
   "source": [
    "class ElectricCar(Car):\n",
    "    pass"
   ]
  },
  {
   "cell_type": "code",
   "execution_count": 4,
   "metadata": {},
   "outputs": [],
   "source": [
    "eCar = ElectricCar('Abc', 'Model', 2019)"
   ]
  },
  {
   "cell_type": "code",
   "execution_count": 5,
   "metadata": {},
   "outputs": [
    {
     "data": {
      "text/plain": [
       "'Abc'"
      ]
     },
     "execution_count": 5,
     "metadata": {},
     "output_type": "execute_result"
    }
   ],
   "source": [
    "eCar.make"
   ]
  },
  {
   "cell_type": "code",
   "execution_count": 6,
   "metadata": {},
   "outputs": [
    {
     "data": {
      "text/plain": [
       "'the name of the car is Abc Model 2019'"
      ]
     },
     "execution_count": 6,
     "metadata": {},
     "output_type": "execute_result"
    }
   ],
   "source": [
    "eCar.description()"
   ]
  },
  {
   "cell_type": "code",
   "execution_count": 8,
   "metadata": {},
   "outputs": [],
   "source": [
    "class ElectricCar(Car):\n",
    "    def __init__(self,make,model,year):\n",
    "        super().__init__(make,model,year)\n",
    "        self.batterySize = 100\n",
    "        self.batteryMan = 'Exide'\n",
    "    def getBatterySize(self):\n",
    "        print(f'Battery Size is: {self.batterySize}')\n",
    "    \n",
    "    def setBatterySize(self, newBatterySize):\n",
    "        self.batterySize = newBatterySize\n",
    "        "
   ]
  },
  {
   "cell_type": "code",
   "execution_count": 10,
   "metadata": {},
   "outputs": [],
   "source": [
    "eCar = ElectricCar('abc', 'Model', 2019)"
   ]
  },
  {
   "cell_type": "code",
   "execution_count": 11,
   "metadata": {},
   "outputs": [
    {
     "name": "stdout",
     "output_type": "stream",
     "text": [
      "Battery Size is: 400\n"
     ]
    }
   ],
   "source": [
    "eCar.setBatterySize(400)\n",
    "eCar.getBatterySize()"
   ]
  },
  {
   "cell_type": "code",
   "execution_count": 34,
   "metadata": {},
   "outputs": [],
   "source": [
    "class Restaurant():\n",
    "   \n",
    "    def __init__(self,restaurant_name, cusineType):\n",
    "        self.restaurant_name = restaurant_name\n",
    "        self.cusineType= cusineType\n",
    "    \n",
    "    def describe_Restaurant(self):\n",
    "        print(f'The name of restaurant name is: {self.restaurant_name}')\n",
    "        print(f'The cuisine type is: {self.cusineType}')\n",
    "    \n",
    "    def isOpen_restuarant(self,time):\n",
    "        if (time > 24 or time<10):\n",
    "            print(f'{self.restaurant_name} is open')\n",
    "        else:\n",
    "            print(f'{self.restaurant_name} is not open')"
   ]
  },
  {
   "cell_type": "code",
   "execution_count": 35,
   "metadata": {},
   "outputs": [],
   "source": [
    "r1= Restaurant('ChinaTown', 'Chineese')"
   ]
  },
  {
   "cell_type": "code",
   "execution_count": 36,
   "metadata": {},
   "outputs": [
    {
     "name": "stdout",
     "output_type": "stream",
     "text": [
      "ChinaTown\n",
      "Chineese\n"
     ]
    }
   ],
   "source": [
    "print(r1.restaurant_name)\n",
    "print(r1.cusineType)"
   ]
  },
  {
   "cell_type": "code",
   "execution_count": 37,
   "metadata": {},
   "outputs": [
    {
     "name": "stdout",
     "output_type": "stream",
     "text": [
      "The name of restaurant name is: ChinaTown\n",
      "The cuisine type is: Chineese\n"
     ]
    }
   ],
   "source": [
    "r1.describe_Restaurant()"
   ]
  },
  {
   "cell_type": "code",
   "execution_count": 39,
   "metadata": {},
   "outputs": [
    {
     "name": "stdout",
     "output_type": "stream",
     "text": [
      "ChinaTown is not open\n"
     ]
    }
   ],
   "source": [
    "r1.isOpen_restuarant(23)"
   ]
  },
  {
   "cell_type": "code",
   "execution_count": 44,
   "metadata": {},
   "outputs": [],
   "source": [
    "class Restaurant():\n",
    "   \n",
    "    def __init__(self,restaurant_name, cusineType):\n",
    "        self.restaurant_name = restaurant_name\n",
    "        self.cusineType= cusineType\n",
    "        self.servedNumber = 0\n",
    "    \n",
    "    def describe_Restaurant(self):\n",
    "        print(f'The name of restaurant name is: {self.restaurant_name}')\n",
    "        print(f'The cuisine type is: {self.cusineType}')\n",
    "    \n",
    "    def isOpen_restuarant(self,time):\n",
    "        if (time > 24 or time<10):\n",
    "            print(f'{self.restaurant_name} is open')\n",
    "        else:\n",
    "            print(f'{self.restaurant_name} is not open')\n",
    "    \n",
    "    def getservedNumber(self):\n",
    "        print(f'{self.servedNumber} has been served')\n",
    "    def setservedNumber(self, numbers):\n",
    "        self.servedNumber = numbers\n",
    "    def incrementservedNumber(self, numbers):\n",
    "        self.servedNumber += numbers"
   ]
  },
  {
   "cell_type": "code",
   "execution_count": 45,
   "metadata": {},
   "outputs": [],
   "source": [
    "restaurant = Restaurant('KFC', 'Fast Food')"
   ]
  },
  {
   "cell_type": "code",
   "execution_count": 46,
   "metadata": {},
   "outputs": [
    {
     "data": {
      "text/plain": [
       "0"
      ]
     },
     "execution_count": 46,
     "metadata": {},
     "output_type": "execute_result"
    }
   ],
   "source": [
    "restaurant.servedNumber"
   ]
  },
  {
   "cell_type": "code",
   "execution_count": 47,
   "metadata": {},
   "outputs": [
    {
     "data": {
      "text/plain": [
       "100"
      ]
     },
     "execution_count": 47,
     "metadata": {},
     "output_type": "execute_result"
    }
   ],
   "source": [
    "restaurant.servedNumber = 100\n",
    "restaurant.servedNumber"
   ]
  },
  {
   "cell_type": "code",
   "execution_count": 48,
   "metadata": {},
   "outputs": [
    {
     "name": "stdout",
     "output_type": "stream",
     "text": [
      "4 has been served\n"
     ]
    }
   ],
   "source": [
    "restaurant.setservedNumber(4)\n",
    "restaurant.getservedNumber()"
   ]
  },
  {
   "cell_type": "code",
   "execution_count": 49,
   "metadata": {},
   "outputs": [
    {
     "name": "stdout",
     "output_type": "stream",
     "text": [
      "16 has been served\n"
     ]
    }
   ],
   "source": [
    "restaurant.incrementservedNumber(12)\n",
    "restaurant.getservedNumber()"
   ]
  },
  {
   "cell_type": "code",
   "execution_count": 50,
   "metadata": {},
   "outputs": [
    {
     "name": "stdout",
     "output_type": "stream",
     "text": [
      "96 has been served\n"
     ]
    }
   ],
   "source": [
    "restaurant.incrementservedNumber(80)\n",
    "restaurant.getservedNumber()"
   ]
  },
  {
   "cell_type": "code",
   "execution_count": null,
   "metadata": {},
   "outputs": [
    {
     "name": "stdout",
     "output_type": "stream",
     "text": [
      "Enter your name: neeraj\n"
     ]
    }
   ],
   "source": [
    "user_input = '' \n",
    "x = ['neeraj', 'Avinash', 'Hanesh']\n",
    "while user_input != 'q':\n",
    "    user_input = input('Enter your name: ')\n",
    "    if user_input != 'q':\n",
    "        for i in x:\n",
    "            if user_input == x:\n",
    "                print('nice name')\n",
    "                break"
   ]
  },
  {
   "cell_type": "code",
   "execution_count": null,
   "metadata": {},
   "outputs": [],
   "source": []
  },
  {
   "cell_type": "code",
   "execution_count": 55,
   "metadata": {},
   "outputs": [],
   "source": [
    "class iceCreamStand(Restaurant):\n",
    "    \n",
    "    def __init__(self,restaurant_name, cusineType):\n",
    "        super().__init__(restaurant_name, cusineType)\n",
    "        self.flavours = ['Vanilla', 'mango', 'chocolate']\n",
    "    \n",
    "    def getFlavors(self):\n",
    "        print(f'Flavours are:')\n",
    "        for flavour in self.flavours:\n",
    "            print(flavour, end = ' ')"
   ]
  },
  {
   "cell_type": "code",
   "execution_count": 56,
   "metadata": {},
   "outputs": [],
   "source": [
    "ice1 = iceCreamStand('Peshawari', 'italianIceCream')"
   ]
  },
  {
   "cell_type": "code",
   "execution_count": 57,
   "metadata": {},
   "outputs": [
    {
     "name": "stdout",
     "output_type": "stream",
     "text": [
      "Peshawari\n",
      "italianIceCream\n"
     ]
    }
   ],
   "source": [
    "print(ice1.restaurant_name)\n",
    "print(ice1.cusineType)"
   ]
  },
  {
   "cell_type": "code",
   "execution_count": 58,
   "metadata": {},
   "outputs": [
    {
     "name": "stdout",
     "output_type": "stream",
     "text": [
      "Flavours are:\n",
      "Vanilla mango chocolate "
     ]
    }
   ],
   "source": [
    "ice1.getFlavors()"
   ]
  },
  {
   "cell_type": "code",
   "execution_count": 59,
   "metadata": {},
   "outputs": [],
   "source": [
    "#shan_ali991@yahoo.com"
   ]
  },
  {
   "cell_type": "code",
   "execution_count": 64,
   "metadata": {},
   "outputs": [],
   "source": [
    "class Car():\n",
    "    def __init__(self,make,model,year = 2019):\n",
    "        self.make = make\n",
    "        self.model = model\n",
    "        self.year = year\n",
    "        self.odometer_reading = 0\n",
    "    def description(self):\n",
    "        full_name = f'the name of the car is {self.make} {self.model} {self.year}'\n",
    "        return full_name\n",
    "    def read_odometer(self):\n",
    "        print(f'The car has run {self.odometer_reading} miles')\n",
    "    def update_odometer(self,mileage):\n",
    "         self.odometer_reading = mileage"
   ]
  },
  {
   "cell_type": "code",
   "execution_count": 66,
   "metadata": {},
   "outputs": [],
   "source": [
    "class ElectricCar(Car):\n",
    "    \n",
    "    def __init__(self,make,model,year):\n",
    "        super().__init__(make,model,year)\n",
    "        self.battery = Battery('Osaka' ,'200Amp')"
   ]
  },
  {
   "cell_type": "code",
   "execution_count": 76,
   "metadata": {},
   "outputs": [],
   "source": [
    "class Battery():\n",
    "    def __init__(self,manuf, size):\n",
    "        self.manuf = manuf\n",
    "        self.batterySize = size\n",
    "    def getBatterySize(self):\n",
    "        print(f'Battery Size is: {self.batterySize}')\n",
    "    \n",
    "    def setBatterySize(self, newBatterySize):\n",
    "        self.batterySize = newBatterySize\n",
    "          "
   ]
  },
  {
   "cell_type": "code",
   "execution_count": 77,
   "metadata": {},
   "outputs": [],
   "source": [
    "eCar = ElectricCar('helloCar', 'New', 2020)"
   ]
  },
  {
   "cell_type": "code",
   "execution_count": 78,
   "metadata": {},
   "outputs": [
    {
     "name": "stdout",
     "output_type": "stream",
     "text": [
      "Battery Size is: 200Amp\n"
     ]
    }
   ],
   "source": [
    "eCar.battery.getBatterySize()"
   ]
  },
  {
   "cell_type": "code",
   "execution_count": 79,
   "metadata": {},
   "outputs": [],
   "source": [
    "eCar.battery.setBatterySize(400)"
   ]
  },
  {
   "cell_type": "code",
   "execution_count": null,
   "metadata": {},
   "outputs": [],
   "source": [
    "eCar.battery.setBatterySize"
   ]
  },
  {
   "cell_type": "code",
   "execution_count": 20,
   "metadata": {},
   "outputs": [],
   "source": [
    "class User():\n",
    "    def __init__(self, name, gender, age):\n",
    "        self.name = name\n",
    "        self.gender = gender\n",
    "        self.age = age\n",
    "        self.login_time = 0\n",
    "    def description(self):\n",
    "        full_name = f'The intro of user is full name: {self.name} gender: {self.gender} age: {self.age}'\n",
    "        return full_name\n",
    "    def setLoginInfo(self, numbers):\n",
    "        self.login_time = numbers\n",
    "        return numbers\n",
    "    def getLoginInfo(self):\n",
    "        print(f'you have login {self.login_time} times')\n",
    "\n",
    "        \n",
    "        "
   ]
  },
  {
   "cell_type": "code",
   "execution_count": 21,
   "metadata": {},
   "outputs": [],
   "source": [
    "user1 = User('Neeraj','male',23)"
   ]
  },
  {
   "cell_type": "code",
   "execution_count": 22,
   "metadata": {},
   "outputs": [
    {
     "data": {
      "text/plain": [
       "'The intro of user is full name: Neeraj gender: male age: 23'"
      ]
     },
     "execution_count": 22,
     "metadata": {},
     "output_type": "execute_result"
    }
   ],
   "source": [
    "user1.description()"
   ]
  },
  {
   "cell_type": "code",
   "execution_count": 23,
   "metadata": {},
   "outputs": [
    {
     "name": "stdout",
     "output_type": "stream",
     "text": [
      "you have login 0 times\n"
     ]
    }
   ],
   "source": [
    "user1.getLoginInfo()"
   ]
  },
  {
   "cell_type": "code",
   "execution_count": 24,
   "metadata": {},
   "outputs": [
    {
     "name": "stdout",
     "output_type": "stream",
     "text": [
      "you have login 3 times\n"
     ]
    }
   ],
   "source": [
    "user1.setLoginInfo(3)\n",
    "user1.getLoginInfo()"
   ]
  },
  {
   "cell_type": "code",
   "execution_count": 1,
   "metadata": {},
   "outputs": [
    {
     "ename": "TypeError",
     "evalue": "unsupported operand type(s) for -: 'float' and 'set'",
     "output_type": "error",
     "traceback": [
      "\u001b[1;31m---------------------------------------------------------------------------\u001b[0m",
      "\u001b[1;31mTypeError\u001b[0m                                 Traceback (most recent call last)",
      "\u001b[1;32m<ipython-input-1-5c6f60b375be>\u001b[0m in \u001b[0;36m<module>\u001b[1;34m\u001b[0m\n\u001b[1;32m----> 1\u001b[1;33m \u001b[1;36m2\u001b[0m\u001b[1;33m+\u001b[0m\u001b[1;33m[\u001b[0m\u001b[1;36m3\u001b[0m\u001b[1;33m/\u001b[0m\u001b[1;36m4\u001b[0m\u001b[1;33m-\u001b[0m\u001b[1;33m{\u001b[0m\u001b[1;36m45\u001b[0m\u001b[1;33m+\u001b[0m\u001b[1;36m78\u001b[0m\u001b[1;33m*\u001b[0m\u001b[1;36m9\u001b[0m\u001b[1;33m/\u001b[0m\u001b[1;33m(\u001b[0m\u001b[1;36m6\u001b[0m\u001b[1;33m+\u001b[0m\u001b[1;36m8\u001b[0m\u001b[1;33m)\u001b[0m\u001b[1;33m}\u001b[0m\u001b[1;33m]\u001b[0m\u001b[1;33m\u001b[0m\u001b[1;33m\u001b[0m\u001b[0m\n\u001b[0m",
      "\u001b[1;31mTypeError\u001b[0m: unsupported operand type(s) for -: 'float' and 'set'"
     ]
    }
   ],
   "source": [
    "2+[3/4-{45+78*9/(6+8)}]"
   ]
  },
  {
   "cell_type": "code",
   "execution_count": 1,
   "metadata": {},
   "outputs": [],
   "source": [
    "__a =1"
   ]
  },
  {
   "cell_type": "code",
   "execution_count": 2,
   "metadata": {},
   "outputs": [
    {
     "name": "stdout",
     "output_type": "stream",
     "text": [
      "1\n"
     ]
    }
   ],
   "source": [
    "print(__a)"
   ]
  },
  {
   "cell_type": "code",
   "execution_count": 3,
   "metadata": {},
   "outputs": [
    {
     "data": {
      "text/plain": [
       "1.3333333333333333"
      ]
     },
     "execution_count": 3,
     "metadata": {},
     "output_type": "execute_result"
    }
   ],
   "source": [
    "4/(3*(2-1))"
   ]
  },
  {
   "cell_type": "code",
   "execution_count": 4,
   "metadata": {},
   "outputs": [
    {
     "data": {
      "text/plain": [
       "1.3333333333333333"
      ]
     },
     "execution_count": 4,
     "metadata": {},
     "output_type": "execute_result"
    }
   ],
   "source": [
    "4/3*(2-1)"
   ]
  },
  {
   "cell_type": "code",
   "execution_count": 5,
   "metadata": {},
   "outputs": [
    {
     "data": {
      "text/plain": [
       "3"
      ]
     },
     "execution_count": 5,
     "metadata": {},
     "output_type": "execute_result"
    }
   ],
   "source": [
    "3%5"
   ]
  },
  {
   "cell_type": "code",
   "execution_count": 11,
   "metadata": {},
   "outputs": [
    {
     "data": {
      "text/plain": [
       "0"
      ]
     },
     "execution_count": 11,
     "metadata": {},
     "output_type": "execute_result"
    }
   ],
   "source": [
    "a = 16\n",
    "b = 15\n",
    "a%5//a"
   ]
  },
  {
   "cell_type": "code",
   "execution_count": 13,
   "metadata": {},
   "outputs": [
    {
     "name": "stdout",
     "output_type": "stream",
     "text": [
      " 0.3333\n"
     ]
    }
   ],
   "source": [
    "print('{0: .4}'.format(1/3))"
   ]
  },
  {
   "cell_type": "code",
   "execution_count": 17,
   "metadata": {},
   "outputs": [
    {
     "data": {
      "text/plain": [
       "['h', 'e', 'l', 'l', 'o']"
      ]
     },
     "execution_count": 17,
     "metadata": {},
     "output_type": "execute_result"
    }
   ],
   "source": [
    "list('hello')"
   ]
  },
  {
   "cell_type": "code",
   "execution_count": 18,
   "metadata": {},
   "outputs": [
    {
     "ename": "NameError",
     "evalue": "name 'random' is not defined",
     "output_type": "error",
     "traceback": [
      "\u001b[1;31m---------------------------------------------------------------------------\u001b[0m",
      "\u001b[1;31mNameError\u001b[0m                                 Traceback (most recent call last)",
      "\u001b[1;32m<ipython-input-18-ad179358ee5b>\u001b[0m in \u001b[0;36m<module>\u001b[1;34m\u001b[0m\n\u001b[1;32m----> 1\u001b[1;33m \u001b[0mrandom\u001b[0m\u001b[1;33m.\u001b[0m\u001b[0mshuffle\u001b[0m\u001b[1;33m(\u001b[0m\u001b[0mlist\u001b[0m\u001b[1;33m)\u001b[0m\u001b[1;33m\u001b[0m\u001b[1;33m\u001b[0m\u001b[0m\n\u001b[0m",
      "\u001b[1;31mNameError\u001b[0m: name 'random' is not defined"
     ]
    }
   ],
   "source": [
    "random.shuffle(list)"
   ]
  },
  {
   "cell_type": "code",
   "execution_count": 19,
   "metadata": {},
   "outputs": [],
   "source": [
    "names = ['amir', 'mueez', 'farooq']"
   ]
  },
  {
   "cell_type": "code",
   "execution_count": 20,
   "metadata": {},
   "outputs": [
    {
     "name": "stdout",
     "output_type": "stream",
     "text": [
      "q\n"
     ]
    }
   ],
   "source": [
    "print(names[-1][-1])"
   ]
  },
  {
   "cell_type": "code",
   "execution_count": 21,
   "metadata": {},
   "outputs": [],
   "source": [
    "names1 = ['Amir', 'Bear', 'Charlton', 'Daman']\n",
    "names2 = names1"
   ]
  },
  {
   "cell_type": "code",
   "execution_count": 22,
   "metadata": {},
   "outputs": [
    {
     "name": "stdout",
     "output_type": "stream",
     "text": [
      "['Amir', 'Bear', 'Charlton', 'Daman']\n"
     ]
    }
   ],
   "source": [
    "print(names2)"
   ]
  },
  {
   "cell_type": "code",
   "execution_count": 23,
   "metadata": {},
   "outputs": [],
   "source": [
    "names3 = names1[:]"
   ]
  },
  {
   "cell_type": "code",
   "execution_count": 24,
   "metadata": {},
   "outputs": [
    {
     "name": "stdout",
     "output_type": "stream",
     "text": [
      "['Amir', 'Bear', 'Charlton', 'Daman']\n"
     ]
    }
   ],
   "source": [
    "print(names3)"
   ]
  },
  {
   "cell_type": "code",
   "execution_count": 26,
   "metadata": {},
   "outputs": [],
   "source": [
    "names2[0]= 'Alice'\n",
    "names3[1] = 'Bob'"
   ]
  },
  {
   "cell_type": "code",
   "execution_count": 27,
   "metadata": {},
   "outputs": [
    {
     "name": "stdout",
     "output_type": "stream",
     "text": [
      "['Alice', 'Bear', 'Charlton', 'Daman']\n",
      "['Amir', 'Bob', 'Charlton', 'Daman']\n"
     ]
    }
   ],
   "source": [
    "print(names2)\n",
    "print(names3)"
   ]
  },
  {
   "cell_type": "code",
   "execution_count": 31,
   "metadata": {},
   "outputs": [
    {
     "name": "stdout",
     "output_type": "stream",
     "text": [
      "2\n"
     ]
    }
   ],
   "source": [
    "sum = 0\n",
    "for ls in(names1, names2, names3):\n",
    "    if ls[0] == 'Alice':\n",
    "        sum += 1\n",
    "    #if ls[1] == 'Bob':\n",
    "        #sum+= 10\n",
    "print(sum)\n"
   ]
  },
  {
   "cell_type": "code",
   "execution_count": 32,
   "metadata": {},
   "outputs": [
    {
     "data": {
      "text/plain": [
       "[1, 3, 2, 1, 3, 2]"
      ]
     },
     "execution_count": 32,
     "metadata": {},
     "output_type": "execute_result"
    }
   ],
   "source": [
    "list2 = [1,3,2]\n",
    "list2 * 2"
   ]
  },
  {
   "cell_type": "code",
   "execution_count": 33,
   "metadata": {},
   "outputs": [],
   "source": [
    "list1 = [0.5 * x for x in range(0, 4)]"
   ]
  },
  {
   "cell_type": "code",
   "execution_count": 34,
   "metadata": {},
   "outputs": [
    {
     "name": "stdout",
     "output_type": "stream",
     "text": [
      "[0.0, 0.5, 1.0, 1.5]\n"
     ]
    }
   ],
   "source": [
    "print(list1)"
   ]
  },
  {
   "cell_type": "code",
   "execution_count": 36,
   "metadata": {},
   "outputs": [
    {
     "data": {
      "text/plain": [
       "False"
      ]
     },
     "execution_count": 36,
     "metadata": {},
     "output_type": "execute_result"
    }
   ],
   "source": [
    "list1 = [11,2,23]\n",
    "list2 = [11,2,2]\n",
    "list1<list2"
   ]
  },
  {
   "cell_type": "code",
   "execution_count": 3,
   "metadata": {},
   "outputs": [
    {
     "name": "stdout",
     "output_type": "stream",
     "text": [
      "34\n"
     ]
    }
   ],
   "source": [
    "print(4*4*2+2)"
   ]
  },
  {
   "cell_type": "code",
   "execution_count": 4,
   "metadata": {},
   "outputs": [
    {
     "name": "stdout",
     "output_type": "stream",
     "text": [
      "Hello, World!\n"
     ]
    }
   ],
   "source": [
    "greeting = \"Hello\"\n",
    "separators = \", \" \n",
    "addressee = \"World\" \n",
    "punc = \"!\" \n",
    "whole_greeting = greeting + separators + addressee + punc \n",
    "print(whole_greeting) "
   ]
  },
  {
   "cell_type": "code",
   "execution_count": 2,
   "metadata": {},
   "outputs": [],
   "source": [
    "states_in_order_of_founding = (\"Delaware\", \"Pennsylvania\", \"New Jersey\", \"Georgia\") "
   ]
  },
  {
   "cell_type": "code",
   "execution_count": 3,
   "metadata": {},
   "outputs": [
    {
     "name": "stdout",
     "output_type": "stream",
     "text": [
      "<class 'tuple'>\n"
     ]
    }
   ],
   "source": [
    "print(type(states_in_order_of_founding))"
   ]
  },
  {
   "cell_type": "code",
   "execution_count": 5,
   "metadata": {},
   "outputs": [],
   "source": [
    "second_state_founded = states_in_order_of_founding[1]"
   ]
  },
  {
   "cell_type": "code",
   "execution_count": 6,
   "metadata": {},
   "outputs": [
    {
     "name": "stdout",
     "output_type": "stream",
     "text": [
      "Pennsylvania\n"
     ]
    }
   ],
   "source": [
    "print( second_state_founded)"
   ]
  },
  {
   "cell_type": "code",
   "execution_count": 9,
   "metadata": {},
   "outputs": [],
   "source": [
    "def add_numbers(first, second):\n",
    "    total = first + second\n",
    "    print(total)"
   ]
  },
  {
   "cell_type": "code",
   "execution_count": 10,
   "metadata": {},
   "outputs": [
    {
     "name": "stdout",
     "output_type": "stream",
     "text": [
      "117\n"
     ]
    }
   ],
   "source": [
    "add_numbers(52, 65)"
   ]
  },
  {
   "cell_type": "code",
   "execution_count": 11,
   "metadata": {},
   "outputs": [],
   "source": [
    "def greeting(greeting):\n",
    "    print(greeting)"
   ]
  },
  {
   "cell_type": "code",
   "execution_count": 12,
   "metadata": {},
   "outputs": [
    {
     "name": "stdout",
     "output_type": "stream",
     "text": [
      "Hello, Python\n"
     ]
    }
   ],
   "source": [
    "greeting(\"Hello, Python\")"
   ]
  },
  {
   "cell_type": "code",
   "execution_count": 17,
   "metadata": {},
   "outputs": [
    {
     "name": "stdout",
     "output_type": "stream",
     "text": [
      "The tax rate is 30.0\n"
     ]
    }
   ],
   "source": [
    "def calc_tax(sales_total, tax_rate):\n",
    "    total = sales_total*tax_rate\n",
    "    str_arg = str(total)\n",
    "    print(f'The tax rate is {total}')\n",
    "\n",
    "sales_total = 100\n",
    "tax_rate = 0.3\n",
    "\n",
    "calc_tax(sales_total, tax_rate)"
   ]
  },
  {
   "cell_type": "code",
   "execution_count": null,
   "metadata": {},
   "outputs": [],
   "source": [
    "process_stuff(text = \"Result: \", qty = 144, dict = products)\n",
    " Advance to next exercise"
   ]
  },
  {
   "cell_type": "code",
   "execution_count": 1,
   "metadata": {},
   "outputs": [
    {
     "name": "stdout",
     "output_type": "stream",
     "text": [
      "11\n",
      "4\n",
      "4\n"
     ]
    }
   ],
   "source": [
    "x = int(input())\n",
    "y = int(input())\n",
    "x = x % y\n",
    "x = x % y\n",
    "x = y % x\n",
    "print(y)"
   ]
  },
  {
   "cell_type": "code",
   "execution_count": 1,
   "metadata": {},
   "outputs": [],
   "source": [
    "def calc(state_sales, sales_tax = 0.4):\n",
    "    total = state_sales * sales_tax\n",
    "    print(total)\n",
    "    "
   ]
  },
  {
   "cell_type": "code",
   "execution_count": 5,
   "metadata": {},
   "outputs": [
    {
     "name": "stdout",
     "output_type": "stream",
     "text": [
      "4938.0\n"
     ]
    }
   ],
   "source": [
    "calc(state_sales = 12345, sales_tax = 0.4)"
   ]
  },
  {
   "cell_type": "code",
   "execution_count": 11,
   "metadata": {},
   "outputs": [],
   "source": [
    "def print_order(product_name, color, size, engraving_text=\"abc\"): \n",
    "    print(print_order)"
   ]
  },
  {
   "cell_type": "code",
   "execution_count": 12,
   "metadata": {},
   "outputs": [
    {
     "name": "stdout",
     "output_type": "stream",
     "text": [
      "<function print_order at 0x000001EDD06B26A8>\n"
     ]
    }
   ],
   "source": [
    "print_order(\"Lotion\", \"white\", \"1kg\")"
   ]
  },
  {
   "cell_type": "code",
   "execution_count": 5,
   "metadata": {},
   "outputs": [],
   "source": [
    " customers = {   \n",
    "              0: {\"first name\":\"John\", \"last name\": \"Ogden\", \"address\": \"301 Arbor Rd.\",},\n",
    "              1: {\"first name\":\"Ann\", \"last name\": \"Sattermyer\", \"address\": \"PO Box 1145\",},\n",
    "              2: {\"first name\":\"Jill\", \"last name\": \"Somers\",  \"address\": \"3 Main St.\",},\n",
    " }\n",
    "#find(customers, 2, \"last name\"):\n",
    "    \n",
    "def find(dict, inner_list, target):\n",
    "    print(dict[inner_list][target])"
   ]
  },
  {
   "cell_type": "code",
   "execution_count": 7,
   "metadata": {},
   "outputs": [
    {
     "name": "stdout",
     "output_type": "stream",
     "text": [
      "Somers\n"
     ]
    }
   ],
   "source": [
    "find(customers, 2, \"last name\")"
   ]
  },
  {
   "cell_type": "code",
   "execution_count": 34,
   "metadata": {},
   "outputs": [],
   "source": [
    "def display_winner(winners, score, **other_info):\n",
    "    str(score)\n",
    "    print(\"The winner was\" + winners)\n",
    "    print(\"The score was\" + str(score))\n",
    "    for key, value in other_info.items():\n",
    "        print(key + \": \" + value)"
   ]
  },
  {
   "cell_type": "code",
   "execution_count": 35,
   "metadata": {},
   "outputs": [
    {
     "name": "stdout",
     "output_type": "stream",
     "text": [
      "The winner wasNeeraj\n",
      "The score was2\n",
      "overtime: yes\n",
      "injuries: none\n"
     ]
    }
   ],
   "source": [
    "display_winner(\"Neeraj\", 2-0, overtime = \"yes\", injuries = \"none\")"
   ]
  },
  {
   "cell_type": "code",
   "execution_count": 36,
   "metadata": {},
   "outputs": [],
   "source": [
    "def calc(sales_total, sales_tax):\n",
    "    return(sales_total*sales_tax)"
   ]
  },
  {
   "cell_type": "code",
   "execution_count": 41,
   "metadata": {},
   "outputs": [
    {
     "name": "stdout",
     "output_type": "stream",
     "text": [
      "884.52\n"
     ]
    }
   ],
   "source": [
    "print(calc(11.34, 78))"
   ]
  },
  {
   "cell_type": "code",
   "execution_count": 26,
   "metadata": {},
   "outputs": [],
   "source": [
    "class Patient():\n",
    "    def __init__(self, first_name, last_name, age):\n",
    "        self.first_name = first_name\n",
    "        self.last_name = last_name\n",
    "        self.age = age\n",
    "    def descreption(self):\n",
    "        full_name = f'The intro of user is full name: {self.first_name} last_name: {self.last_name} age: {self.age}'\n",
    "        return full_name\n",
    "    def check_age(self):\n",
    "        if self.age > 21:\n",
    "            print(\"Your age \" + str(self.age) + \" is too long for the operation\")\n",
    "        else:\n",
    "            print(\"Your age is perfect for this operation\")\n",
    "    def change_the_name(self, new_last_name):\n",
    "        self.last_name = new_last_name\n",
    "        "
   ]
  },
  {
   "cell_type": "code",
   "execution_count": 27,
   "metadata": {},
   "outputs": [],
   "source": [
    "patient123 = Patient(\"Neeraj\", \"Kumar\", 23)"
   ]
  },
  {
   "cell_type": "code",
   "execution_count": 28,
   "metadata": {},
   "outputs": [
    {
     "data": {
      "text/plain": [
       "'The intro of user is full name: Neeraj last_name: Kumar age: 23'"
      ]
     },
     "execution_count": 28,
     "metadata": {},
     "output_type": "execute_result"
    }
   ],
   "source": [
    "patient123.descreption()"
   ]
  },
  {
   "cell_type": "code",
   "execution_count": 29,
   "metadata": {},
   "outputs": [
    {
     "name": "stdout",
     "output_type": "stream",
     "text": [
      "Your age 23 is too long for the operation\n"
     ]
    }
   ],
   "source": [
    "patient123.check_age()"
   ]
  },
  {
   "cell_type": "code",
   "execution_count": 30,
   "metadata": {},
   "outputs": [
    {
     "name": "stdout",
     "output_type": "stream",
     "text": [
      "23\n"
     ]
    }
   ],
   "source": [
    "print(patient123.age)"
   ]
  },
  {
   "cell_type": "code",
   "execution_count": 33,
   "metadata": {},
   "outputs": [],
   "source": [
    "patient123.change_the_name(\"Pahuja\")"
   ]
  },
  {
   "cell_type": "code",
   "execution_count": 34,
   "metadata": {},
   "outputs": [
    {
     "data": {
      "text/plain": [
       "'Pahuja'"
      ]
     },
     "execution_count": 34,
     "metadata": {},
     "output_type": "execute_result"
    }
   ],
   "source": [
    "patient123.last_name"
   ]
  },
  {
   "cell_type": "code",
   "execution_count": null,
   "metadata": {},
   "outputs": [],
   "source": []
  },
  {
   "cell_type": "code",
   "execution_count": 36,
   "metadata": {},
   "outputs": [],
   "source": [
    "class User():\n",
    "    def __init__(self, name, gender, age):\n",
    "        self.name = name\n",
    "        self.gender = gender\n",
    "        self.age = age\n",
    "        self.login_time = 0\n",
    "    def description(self):\n",
    "        full_name = f'The intro of user is full name: {self.name} gender: {self.gender} age: {self.age}'\n",
    "        return full_name\n",
    "    def setLoginInfo(self, numbers):\n",
    "        self.login_time = numbers\n",
    "        return numbers\n",
    "    def getLoginInfo(self):\n",
    "        print(f'you have login {self.login_time} times')\n",
    "\n",
    "        \n",
    "        "
   ]
  },
  {
   "cell_type": "code",
   "execution_count": 37,
   "metadata": {},
   "outputs": [],
   "source": [
    "user2 = User(\"Neeraj\", \"Kumar\", 23)"
   ]
  },
  {
   "cell_type": "code",
   "execution_count": 38,
   "metadata": {},
   "outputs": [
    {
     "data": {
      "text/plain": [
       "'The intro of user is full name: Neeraj gender: Kumar age: 23'"
      ]
     },
     "execution_count": 38,
     "metadata": {},
     "output_type": "execute_result"
    }
   ],
   "source": [
    "user2.description()"
   ]
  },
  {
   "cell_type": "code",
   "execution_count": null,
   "metadata": {},
   "outputs": [],
   "source": []
  }
 ],
 "metadata": {
  "kernelspec": {
   "display_name": "Python 3",
   "language": "python",
   "name": "python3"
  },
  "language_info": {
   "codemirror_mode": {
    "name": "ipython",
    "version": 3
   },
   "file_extension": ".py",
   "mimetype": "text/x-python",
   "name": "python",
   "nbconvert_exporter": "python",
   "pygments_lexer": "ipython3",
   "version": "3.7.3"
  }
 },
 "nbformat": 4,
 "nbformat_minor": 2
}
