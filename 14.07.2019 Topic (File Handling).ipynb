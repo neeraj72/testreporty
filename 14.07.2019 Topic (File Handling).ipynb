{
 "cells": [
  {
   "cell_type": "markdown",
   "metadata": {},
   "source": [
    "# File Handling"
   ]
  },
  {
   "cell_type": "code",
   "execution_count": 8,
   "metadata": {},
   "outputs": [],
   "source": [
    "with open('abc.txt', 'w') as file_object: #give us file handler but doesn't give us file name\n",
    "    file_object.write('Hello PIAIC')"
   ]
  },
  {
   "cell_type": "code",
   "execution_count": 9,
   "metadata": {},
   "outputs": [
    {
     "name": "stdout",
     "output_type": "stream",
     "text": [
      "\n"
     ]
    }
   ],
   "source": [
    "with open('abc.txt', 'r') as file_object:\n",
    "    x = file_object.read()\n",
    "print()"
   ]
  },
  {
   "cell_type": "code",
   "execution_count": 11,
   "metadata": {},
   "outputs": [
    {
     "name": "stdout",
     "output_type": "stream",
     "text": [
      "Hello PIAIC\n"
     ]
    }
   ],
   "source": [
    "with open('abc.txt', 'r') as asad:\n",
    "    x = asad.read()\n",
    "print(x)"
   ]
  },
  {
   "cell_type": "code",
   "execution_count": 3,
   "metadata": {},
   "outputs": [],
   "source": [
    "with open('abc.txt', 'w') as asad:\n",
    "    asad.write('Hello Ada lovlace')"
   ]
  },
  {
   "cell_type": "code",
   "execution_count": 4,
   "metadata": {},
   "outputs": [
    {
     "name": "stdout",
     "output_type": "stream",
     "text": [
      "Hello Ada lovlace\n"
     ]
    }
   ],
   "source": [
    "with open('abc.txt', 'r') as asad:\n",
    "    x = asad.read()\n",
    "print(x)"
   ]
  },
  {
   "cell_type": "code",
   "execution_count": 5,
   "metadata": {},
   "outputs": [],
   "source": [
    "with open('abc.txt', 'a') as asad:\n",
    "    asad.write('Hello PIAIC')"
   ]
  },
  {
   "cell_type": "code",
   "execution_count": 6,
   "metadata": {},
   "outputs": [
    {
     "name": "stdout",
     "output_type": "stream",
     "text": [
      "Hello Ada lovlaceHello PIAIC\n"
     ]
    }
   ],
   "source": [
    "with open('abc.txt', 'r') as asad:\n",
    "    x = asad.read()\n",
    "print(x)"
   ]
  },
  {
   "cell_type": "raw",
   "metadata": {},
   "source": [
    "name  cell_no   cnic\n",
    "hamza   786678   t567896567898765    \n",
    "wajahat 456787   4567898765456787"
   ]
  },
  {
   "cell_type": "code",
   "execution_count": 11,
   "metadata": {},
   "outputs": [],
   "source": [
    "with open('Student_record.txt', 'w') as students:\n",
    "    students.write('students record')"
   ]
  },
  {
   "cell_type": "code",
   "execution_count": 18,
   "metadata": {},
   "outputs": [
    {
     "ename": "SyntaxError",
     "evalue": "invalid syntax (<ipython-input-18-0a7396ae62b2>, line 4)",
     "output_type": "error",
     "traceback": [
      "\u001b[1;36m  File \u001b[1;32m\"<ipython-input-18-0a7396ae62b2>\"\u001b[1;36m, line \u001b[1;32m4\u001b[0m\n\u001b[1;33m    contactNo = input('Enter your number')\u001b[0m\n\u001b[1;37m            ^\u001b[0m\n\u001b[1;31mSyntaxError\u001b[0m\u001b[1;31m:\u001b[0m invalid syntax\n"
     ]
    }
   ],
   "source": [
    "with open('Student_record.txt', 'r') as students:\n",
    "    f = students.read(\n",
    "    name = input('Enter your name: ')\n",
    "        contactNo = int(input('Enter your number'))\n",
    "        cnic = int(input('Enter your cnic'))\n",
    "        for name in range(1,11):\n",
    "        print(name)\n",
    "        for contactNo in range(1,11):\n",
    "        print(contactNo)\n",
    "        for cnic in range(1,11):\n",
    "        print(cnic)\n",
    "    \n",
    "    \n",
    "    )\n",
    "print(f)"
   ]
  },
  {
   "cell_type": "code",
   "execution_count": 19,
   "metadata": {},
   "outputs": [],
   "source": [
    "with open('Data.txt', 'w') as asad: \n",
    "    asad.write('name \\t\\t\\t Cnic \\t\\t\\t number')\n",
    "    "
   ]
  },
  {
   "cell_type": "code",
   "execution_count": 20,
   "metadata": {},
   "outputs": [],
   "source": [
    "with open('Data.txt', 'r') as asad:\n",
    "    data = asad.read()"
   ]
  },
  {
   "cell_type": "code",
   "execution_count": 21,
   "metadata": {},
   "outputs": [
    {
     "name": "stdout",
     "output_type": "stream",
     "text": [
      "name \t\t\t Cnic \t\t\t number\n"
     ]
    }
   ],
   "source": [
    "print(data)"
   ]
  },
  {
   "cell_type": "code",
   "execution_count": 23,
   "metadata": {},
   "outputs": [
    {
     "name": "stdout",
     "output_type": "stream",
     "text": [
      "Enter your name: fahad\n",
      "Enter your number: 2345\n",
      "Enter your Cnic: 5678\n",
      "Enter your name: neeraj\n",
      "Enter your number: 4567\n",
      "Enter your Cnic: 5678\n",
      "Enter your name: akber\n",
      "Enter your number: 456\n",
      "Enter your Cnic: 789\n"
     ]
    }
   ],
   "source": [
    "for i in range(0,3):\n",
    "    name = input('Enter your name: ')\n",
    "    number = input('Enter your number: ')\n",
    "    cnic = input('Enter your Cnic: ')\n",
    "\n",
    "\n",
    "with open('Data.txt', 'w') as asad: \n",
    "    asad.write(f'{name} \\t\\t\\t {cnic} \\t\\t\\t {number}')\n",
    "    "
   ]
  },
  {
   "cell_type": "code",
   "execution_count": 25,
   "metadata": {},
   "outputs": [],
   "source": [
    "with open('Data.txt', 'r') as asad:\n",
    "    data = asad.read()"
   ]
  },
  {
   "cell_type": "code",
   "execution_count": 26,
   "metadata": {},
   "outputs": [
    {
     "name": "stdout",
     "output_type": "stream",
     "text": [
      "akber \t\t\t 789 \t\t\t 456\n"
     ]
    }
   ],
   "source": [
    "print(data)"
   ]
  },
  {
   "cell_type": "code",
   "execution_count": 27,
   "metadata": {},
   "outputs": [
    {
     "ename": "UnsupportedOperation",
     "evalue": "not readable",
     "output_type": "error",
     "traceback": [
      "\u001b[1;31m---------------------------------------------------------------------------\u001b[0m",
      "\u001b[1;31mUnsupportedOperation\u001b[0m                      Traceback (most recent call last)",
      "\u001b[1;32m<ipython-input-27-32675abc2ef3>\u001b[0m in \u001b[0;36m<module>\u001b[1;34m\u001b[0m\n\u001b[0;32m      1\u001b[0m \u001b[1;32mwith\u001b[0m \u001b[0mopen\u001b[0m\u001b[1;33m(\u001b[0m\u001b[1;34m'abc.txt'\u001b[0m\u001b[1;33m,\u001b[0m \u001b[1;34m'w'\u001b[0m\u001b[1;33m)\u001b[0m \u001b[1;32mas\u001b[0m \u001b[0mfile\u001b[0m\u001b[1;33m:\u001b[0m\u001b[1;33m\u001b[0m\u001b[1;33m\u001b[0m\u001b[0m\n\u001b[1;32m----> 2\u001b[1;33m     \u001b[0mprint\u001b[0m\u001b[1;33m(\u001b[0m\u001b[0mfile\u001b[0m\u001b[1;33m.\u001b[0m\u001b[0mread\u001b[0m\u001b[1;33m(\u001b[0m\u001b[1;33m)\u001b[0m\u001b[1;33m)\u001b[0m\u001b[1;33m\u001b[0m\u001b[1;33m\u001b[0m\u001b[0m\n\u001b[0m",
      "\u001b[1;31mUnsupportedOperation\u001b[0m: not readable"
     ]
    }
   ],
   "source": [
    "with open('abc.txt', 'r+') as file:\n",
    "    print(file.read())"
   ]
  },
  {
   "cell_type": "code",
   "execution_count": 29,
   "metadata": {},
   "outputs": [],
   "source": [
    "with open('abc.txt', 'w') as file:\n",
    "    file.write('Hello World')"
   ]
  },
  {
   "cell_type": "code",
   "execution_count": null,
   "metadata": {},
   "outputs": [],
   "source": []
  },
  {
   "cell_type": "code",
   "execution_count": null,
   "metadata": {},
   "outputs": [],
   "source": []
  },
  {
   "cell_type": "code",
   "execution_count": null,
   "metadata": {},
   "outputs": [],
   "source": []
  },
  {
   "cell_type": "code",
   "execution_count": 30,
   "metadata": {},
   "outputs": [
    {
     "name": "stdout",
     "output_type": "stream",
     "text": [
      "Hello World\n"
     ]
    }
   ],
   "source": [
    "with open('abc.txt', 'r+') as file:\n",
    "    print(file.read())\n",
    "    "
   ]
  },
  {
   "cell_type": "code",
   "execution_count": 31,
   "metadata": {},
   "outputs": [
    {
     "name": "stdout",
     "output_type": "stream",
     "text": [
      "Hello World\n"
     ]
    }
   ],
   "source": [
    "with open('abc.txt', 'r+') as file:\n",
    "    print(file.read())\n",
    "    file.write('Hello asad')"
   ]
  },
  {
   "cell_type": "code",
   "execution_count": 37,
   "metadata": {},
   "outputs": [
    {
     "name": "stdout",
     "output_type": "stream",
     "text": [
      "Hello asaddHello asad\n"
     ]
    }
   ],
   "source": [
    "with open('abc.txt', 'r+') as file:\n",
    "    file.write('Hello asad')\n",
    "    file.seek(0)\n",
    "    print(file.read())"
   ]
  },
  {
   "cell_type": "markdown",
   "metadata": {},
   "source": [
    "#  Error and Exception Handling"
   ]
  },
  {
   "cell_type": "code",
   "execution_count": 43,
   "metadata": {},
   "outputs": [
    {
     "name": "stdout",
     "output_type": "stream",
     "text": [
      "Enter your name: 45\n",
      "Enter your name: 78\n",
      "0.5769230769230769\n",
      "Else0.5769230769230769\n"
     ]
    }
   ],
   "source": [
    "\n",
    "a = int(input('Enter your name: '))\n",
    "b = int(input('Enter your name: '))\n",
    "try:\n",
    "    c = a/b\n",
    "    print(c)\n",
    "except ZeroDivisionError:\n",
    "    print('Exception is caught ZeroDivisionError')\n",
    "else:\n",
    "    print('Else' + str(c))"
   ]
  },
  {
   "cell_type": "code",
   "execution_count": 44,
   "metadata": {},
   "outputs": [
    {
     "name": "stdout",
     "output_type": "stream",
     "text": [
      "Enter your name: 7\n",
      "Enter your name: 0\n",
      "Exception is caught ZeroDivisionError\n"
     ]
    }
   ],
   "source": [
    "\n",
    "a = int(input('Enter your name: '))\n",
    "b = int(input('Enter your name: '))\n",
    "try:\n",
    "    c = a/b\n",
    "    print(c)\n",
    "except ZeroDivisionError:\n",
    "    print('Exception is caught ZeroDivisionError')\n",
    "else:\n",
    "    print('Else' + str(c))"
   ]
  },
  {
   "cell_type": "code",
   "execution_count": 50,
   "metadata": {},
   "outputs": [
    {
     "name": "stdout",
     "output_type": "stream",
     "text": [
      "Enter a number: 7\n",
      "Enter a number: 7\n",
      "1.0\n",
      "6\n"
     ]
    }
   ],
   "source": [
    "a = int(input('Enter a number: '))\n",
    "b = int(input('Enter a number: '))\n",
    "d = [1,2,3,4,5,6,7,8,9]\n",
    "try:\n",
    "    c = a/b\n",
    "    e = d[5]\n",
    "except ZeroDivisionError:\n",
    "    print('Exception is cought ZeroDivisionError')\n",
    "except IndexError:\n",
    "    print('Exception is caught is list index out of range')\n",
    "else:\n",
    "    print(c)\n",
    "    print(e)"
   ]
  },
  {
   "cell_type": "code",
   "execution_count": 53,
   "metadata": {},
   "outputs": [
    {
     "name": "stdout",
     "output_type": "stream",
     "text": [
      "Enter a number: 7\n",
      "Enter a number: 0\n",
      "Exception is cought\n"
     ]
    }
   ],
   "source": [
    "d = []\n",
    "try:\n",
    "    a = int(input('Enter a number: '))\n",
    "    b = int(input('Enter a number: '))\n",
    "    c = a/b\n",
    "    e = d[5]\n",
    "    \n",
    "except:                # here we did not define any type of exception. it will be directly catch any type of error.    \n",
    "    \n",
    "    print('Exception is cought')\n",
    "else:\n",
    "    print(c)"
   ]
  },
  {
   "cell_type": "code",
   "execution_count": 60,
   "metadata": {},
   "outputs": [
    {
     "name": "stdout",
     "output_type": "stream",
     "text": [
      "Enter your name: 8\n",
      "Enter your name: 0\n",
      "Handle Error ==division by zero\n",
      "Finally will always run.\n"
     ]
    }
   ],
   "source": [
    "\n",
    "#a = int(input('Enter your name: '))\n",
    "#b = int(input('Enter your name: '))\n",
    "d = []\n",
    "try:\n",
    "    a = int(input('Enter your name: '))\n",
    "    b = int(input('Enter your name: '))\n",
    "    c = a/b\n",
    "    print(c)\n",
    "except Exception as e:\n",
    "    print('Handle Error ==' +str(e))\n",
    "else:\n",
    "    print('Else' + str(c))\n",
    "finally:     \n",
    "    print('Finally will always run.')"
   ]
  },
  {
   "cell_type": "code",
   "execution_count": null,
   "metadata": {},
   "outputs": [],
   "source": []
  }
 ],
 "metadata": {
  "kernelspec": {
   "display_name": "Python 3",
   "language": "python",
   "name": "python3"
  },
  "language_info": {
   "codemirror_mode": {
    "name": "ipython",
    "version": 3
   },
   "file_extension": ".py",
   "mimetype": "text/x-python",
   "name": "python",
   "nbconvert_exporter": "python",
   "pygments_lexer": "ipython3",
   "version": "3.7.3"
  }
 },
 "nbformat": 4,
 "nbformat_minor": 2
}
