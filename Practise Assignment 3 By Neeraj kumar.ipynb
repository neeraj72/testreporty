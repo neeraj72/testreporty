{
 "cells": [
  {
   "cell_type": "markdown",
   "metadata": {},
   "source": [
    "# Q1:"
   ]
  },
  {
   "cell_type": "markdown",
   "metadata": {},
   "source": [
    "Think of at least three kinds of your favorite pizza. Store these pizza names in a list, and then use a for loop to print the name of each pizza."
   ]
  },
  {
   "cell_type": "code",
   "execution_count": 85,
   "metadata": {},
   "outputs": [
    {
     "name": "stdout",
     "output_type": "stream",
     "text": [
      "Enter your favorite pizza: Chiken pizza\n",
      "Chiken pizza this is your favorite pizza\n"
     ]
    }
   ],
   "source": [
    "favorite_pizza = input('Enter your favorite pizza: ')\n",
    "pizza = ['Chees pizza', 'Chiken Pizza', 'Chiken Cheese Pizza']\n",
    "f_p = []\n",
    "for i in pizza:\n",
    "    if favorite_pizza in pizza:\n",
    "        f_p.append(favorite_pizza)\n",
    "print(f'{favorite_pizza} this is your favorite pizza')\n"
   ]
  },
  {
   "cell_type": "code",
   "execution_count": null,
   "metadata": {},
   "outputs": [],
   "source": []
  },
  {
   "cell_type": "code",
   "execution_count": null,
   "metadata": {},
   "outputs": [],
   "source": []
  },
  {
   "cell_type": "markdown",
   "metadata": {},
   "source": [
    "# Q2"
   ]
  },
  {
   "cell_type": "markdown",
   "metadata": {},
   "source": [
    "Start with your last question , Modify your for loop to print a sentence using the name of the pizza\n",
    "instead of printing just the name of the pizza. For each pizza you should\n",
    "have one line of output containing a simple statement like I like pepperoni\n",
    "pizza."
   ]
  },
  {
   "cell_type": "code",
   "execution_count": 3,
   "metadata": {},
   "outputs": [
    {
     "name": "stdout",
     "output_type": "stream",
     "text": [
      "Enter a Pizza: Vage Cheese pizza, Chiken Cheese Pizza, Pepperoni pizza\n",
      " I like Vage Cheese pizza \n",
      " I like Chiken Cheese Pizza \n",
      " I like Pepperoni pizza \n"
     ]
    }
   ],
   "source": [
    "name = input('Enter a Pizza: ').split(', ')\n",
    "temp_var = \"\"\n",
    "i = 0\n",
    "for i in range(len(name)):\n",
    "    if name[i] not in temp_var:\n",
    "        temp_var += name[i]\n",
    "        print(f\" I like {name[i]} \")\n"
   ]
  },
  {
   "cell_type": "code",
   "execution_count": null,
   "metadata": {},
   "outputs": [],
   "source": []
  },
  {
   "cell_type": "code",
   "execution_count": null,
   "metadata": {},
   "outputs": [],
   "source": []
  },
  {
   "cell_type": "markdown",
   "metadata": {},
   "source": [
    "# Q3:"
   ]
  },
  {
   "cell_type": "markdown",
   "metadata": {},
   "source": [
    "Use a for loop to print the numbers from 1 to 20,\n",
    "inclusive."
   ]
  },
  {
   "cell_type": "code",
   "execution_count": 57,
   "metadata": {},
   "outputs": [
    {
     "name": "stdout",
     "output_type": "stream",
     "text": [
      "0 1 2 3 4 5 6 7 8 9 10 11 12 13 14 15 16 17 18 19 20 "
     ]
    }
   ],
   "source": [
    "for i in range(0, 21):\n",
    "    print(i, end = ' ')\n",
    "    "
   ]
  },
  {
   "cell_type": "code",
   "execution_count": null,
   "metadata": {},
   "outputs": [],
   "source": []
  },
  {
   "cell_type": "code",
   "execution_count": null,
   "metadata": {},
   "outputs": [],
   "source": []
  },
  {
   "cell_type": "markdown",
   "metadata": {},
   "source": [
    "# Q4:"
   ]
  },
  {
   "cell_type": "markdown",
   "metadata": {},
   "source": [
    "Use the third argument of the range() function to make a list\n",
    "of the odd numbers from 1 to 20. Use a for loop to print each number."
   ]
  },
  {
   "cell_type": "code",
   "execution_count": 59,
   "metadata": {},
   "outputs": [
    {
     "name": "stdout",
     "output_type": "stream",
     "text": [
      "1 3 5 7 9 11 13 15 17 19 "
     ]
    }
   ],
   "source": [
    "for i in range(1, 21, 2):\n",
    "    print(i, end = ' ')\n",
    "    \n",
    "    "
   ]
  },
  {
   "cell_type": "code",
   "execution_count": null,
   "metadata": {},
   "outputs": [],
   "source": []
  },
  {
   "cell_type": "code",
   "execution_count": null,
   "metadata": {},
   "outputs": [],
   "source": []
  },
  {
   "cell_type": "markdown",
   "metadata": {},
   "source": [
    "# Q5:"
   ]
  },
  {
   "cell_type": "markdown",
   "metadata": {},
   "source": [
    "Make a list of the multiples of 3 from 3 to 30. Use a for loop to\n",
    "print the numbers in your list."
   ]
  },
  {
   "cell_type": "code",
   "execution_count": 62,
   "metadata": {},
   "outputs": [
    {
     "name": "stdout",
     "output_type": "stream",
     "text": [
      "3 6 9 12 15 18 21 24 27 30 "
     ]
    }
   ],
   "source": [
    "for i in range(3, 31, 3):\n",
    "        print(i, end = ' ')"
   ]
  },
  {
   "cell_type": "code",
   "execution_count": null,
   "metadata": {},
   "outputs": [],
   "source": []
  },
  {
   "cell_type": "code",
   "execution_count": null,
   "metadata": {},
   "outputs": [],
   "source": []
  },
  {
   "cell_type": "code",
   "execution_count": null,
   "metadata": {},
   "outputs": [],
   "source": []
  },
  {
   "cell_type": "markdown",
   "metadata": {},
   "source": [
    "# Q6:"
   ]
  },
  {
   "cell_type": "markdown",
   "metadata": {},
   "source": [
    "A number raised to the third power is called a cube. For example,\n",
    "the cube of 2 is written as 2**3 in Python. Make a list of the first 10 cubes (that\n",
    "is, the cube of each integer from 1 through 10), and use a for loop to print out\n",
    "the value of each cube"
   ]
  },
  {
   "cell_type": "code",
   "execution_count": 5,
   "metadata": {},
   "outputs": [
    {
     "name": "stdout",
     "output_type": "stream",
     "text": [
      "num 0 ==  0\n",
      "num 1 ==  1\n",
      "num 2 ==  8\n",
      "num 3 ==  27\n",
      "num 4 ==  64\n",
      "num 5 ==  125\n",
      "num 6 ==  216\n",
      "num 7 ==  343\n",
      "num 8 ==  512\n",
      "num 9 ==  729\n",
      "num 10 ==  1000\n"
     ]
    }
   ],
   "source": [
    "for i in range(0,11):\n",
    "     print(f'num {i} ==  {i**3}')\n",
    "      "
   ]
  },
  {
   "cell_type": "code",
   "execution_count": null,
   "metadata": {},
   "outputs": [],
   "source": []
  },
  {
   "cell_type": "code",
   "execution_count": null,
   "metadata": {},
   "outputs": [],
   "source": []
  },
  {
   "cell_type": "code",
   "execution_count": null,
   "metadata": {},
   "outputs": [],
   "source": []
  },
  {
   "cell_type": "markdown",
   "metadata": {},
   "source": [
    "# Q7:"
   ]
  },
  {
   "cell_type": "markdown",
   "metadata": {},
   "source": [
    "###### Make a python program that conatains your nine favourite dishes in a list called foods.\n",
    "\n",
    "###### Print the message, The first three items in the list are:. \n",
    "###### Then use a slice to print the first three items from that program’s list.\n",
    "\n",
    "###### Print the message, Three items from the middle of the list are:\n",
    "###### Use a slice to print three items from the middle of the list.\n",
    "\n",
    "###### Print the message, The last three items in the list are:\n",
    "###### Use a slice to print the last three items in the list."
   ]
  },
  {
   "cell_type": "code",
   "execution_count": 26,
   "metadata": {},
   "outputs": [
    {
     "name": "stdout",
     "output_type": "stream",
     "text": [
      "The first three items in the list are ['Chiken Tikka', 'Chiken Biryani', 'Veg Roll with patato'] \n"
     ]
    }
   ],
   "source": [
    "foods = ['Chiken Tikka', 'Chiken Biryani', 'Veg Roll with patato', 'Patato Paratha', 'Lady finger with Patato and onion', 'Mix vagetable', 'Paneer with spinach', 'chinesh fried', 'Custard with Jelly']\n",
    "print(f'The first three items in the list are {foods[0:3]} ')"
   ]
  },
  {
   "cell_type": "code",
   "execution_count": 27,
   "metadata": {},
   "outputs": [
    {
     "name": "stdout",
     "output_type": "stream",
     "text": [
      "Three items from the middle of the list are ['Patato Paratha', 'Lady finger with Patato and onion', 'Mix vagetable']\n"
     ]
    }
   ],
   "source": [
    "print(f'Three items from the middle of the list are {foods[3:6]}')"
   ]
  },
  {
   "cell_type": "code",
   "execution_count": 28,
   "metadata": {},
   "outputs": [
    {
     "name": "stdout",
     "output_type": "stream",
     "text": [
      "The last three items in the list are ['Paneer with spinach', 'chinesh fried', 'Custard with Jelly']\n"
     ]
    }
   ],
   "source": [
    "print(f'The last three items in the list are {foods[6:]}')"
   ]
  },
  {
   "cell_type": "code",
   "execution_count": null,
   "metadata": {},
   "outputs": [],
   "source": []
  },
  {
   "cell_type": "code",
   "execution_count": null,
   "metadata": {},
   "outputs": [],
   "source": []
  },
  {
   "cell_type": "code",
   "execution_count": null,
   "metadata": {},
   "outputs": [],
   "source": []
  },
  {
   "cell_type": "code",
   "execution_count": null,
   "metadata": {},
   "outputs": [],
   "source": []
  },
  {
   "cell_type": "markdown",
   "metadata": {},
   "source": [
    "# Q8:"
   ]
  },
  {
   "cell_type": "markdown",
   "metadata": {},
   "source": [
    "### Start with your program from your last Question8.\n",
    "###### Make a copy of the list of foods, and call it friend_foods.\n",
    "###### Then, do the following:\n",
    "######    Add a new dish to the original list.\n",
    "######    Add a different dish to the list friend_foodss.\n",
    "######    Prove that you have two separate lists. \n",
    "###### Print the message, My favorite pizzas are: and then use a for loop to print the first list. \n",
    "###### Print the message,\n",
    "###### My friend’s favorite foods are:, and then use a for loop to print the second list.\n",
    "    \n",
    "##### NOTE: Make sure each new dish is stored in the appropriate list."
   ]
  },
  {
   "cell_type": "code",
   "execution_count": 29,
   "metadata": {},
   "outputs": [
    {
     "name": "stdout",
     "output_type": "stream",
     "text": [
      "['Chiken Tikka', 'Chiken Biryani', 'Veg Roll with patato', 'Patato Paratha', 'Lady finger with Patato and onion', 'Mix vagetable', 'Paneer with spinach', 'chinesh fried', 'Custard with Jelly']\n"
     ]
    }
   ],
   "source": [
    "friends_food = foods.copy()\n",
    "print(friends_food)"
   ]
  },
  {
   "cell_type": "code",
   "execution_count": 31,
   "metadata": {},
   "outputs": [
    {
     "name": "stdout",
     "output_type": "stream",
     "text": [
      "['Chiken Tikka', 'Chiken Biryani', 'Veg Roll with patato', 'Patato Paratha', 'Lady finger with Patato and onion', 'Mix vagetable', 'Paneer with spinach', 'chinesh fried', 'Custard with Jelly', 'Chiken Cheese Pizza']\n"
     ]
    }
   ],
   "source": [
    "foods.append('Chiken Cheese Pizza')\n",
    "print(foods)"
   ]
  },
  {
   "cell_type": "code",
   "execution_count": 32,
   "metadata": {},
   "outputs": [
    {
     "name": "stdout",
     "output_type": "stream",
     "text": [
      "['Chiken Tikka', 'Chiken Biryani', 'Veg Roll with patato', 'Patato Paratha', 'Lady finger with Patato and onion', 'Mix vagetable', 'Paneer with spinach', 'chinesh fried', 'Custard with Jelly', 'Chiken Cheese Pizza', 'Samosa with chatni']\n"
     ]
    }
   ],
   "source": [
    "friends_food.append('Samosa with chatni')\n",
    "print(friends_food)"
   ]
  },
  {
   "cell_type": "code",
   "execution_count": 36,
   "metadata": {},
   "outputs": [
    {
     "name": "stdout",
     "output_type": "stream",
     "text": [
      "My favorite foods are: Chiken Tikka\n",
      "My favorite foods are: Chiken Biryani\n",
      "My favorite foods are: Veg Roll with patato\n",
      "My favorite foods are: Patato Paratha\n",
      "My favorite foods are: Lady finger with Patato and onion\n",
      "My favorite foods are: Mix vagetable\n",
      "My favorite foods are: Paneer with spinach\n",
      "My favorite foods are: chinesh fried\n",
      "My favorite foods are: Custard with Jelly\n",
      "My favorite foods are: Chiken Cheese Pizza\n"
     ]
    }
   ],
   "source": [
    "for i in foods:\n",
    "    print(f'My favorite foods are: {i}')"
   ]
  },
  {
   "cell_type": "code",
   "execution_count": 37,
   "metadata": {},
   "outputs": [
    {
     "name": "stdout",
     "output_type": "stream",
     "text": [
      "My Friend's Favourite Food are: Chiken Tikka\n",
      "My Friend's Favourite Food are: Chiken Biryani\n",
      "My Friend's Favourite Food are: Veg Roll with patato\n",
      "My Friend's Favourite Food are: Patato Paratha\n",
      "My Friend's Favourite Food are: Lady finger with Patato and onion\n",
      "My Friend's Favourite Food are: Mix vagetable\n",
      "My Friend's Favourite Food are: Paneer with spinach\n",
      "My Friend's Favourite Food are: chinesh fried\n",
      "My Friend's Favourite Food are: Custard with Jelly\n",
      "My Friend's Favourite Food are: Chiken Cheese Pizza\n",
      "My Friend's Favourite Food are: Samosa with chatni\n"
     ]
    }
   ],
   "source": [
    "for i in friends_food:\n",
    "    print(f\"My Friend's Favourite Food are: {i}\")"
   ]
  },
  {
   "cell_type": "code",
   "execution_count": null,
   "metadata": {},
   "outputs": [],
   "source": [
    " "
   ]
  },
  {
   "cell_type": "code",
   "execution_count": null,
   "metadata": {},
   "outputs": [],
   "source": []
  },
  {
   "cell_type": "markdown",
   "metadata": {},
   "source": [
    "# Q9:"
   ]
  },
  {
   "cell_type": "markdown",
   "metadata": {},
   "source": [
    "Take a user input from console line.Store it in a variable called Alien_color.\n",
    "\n",
    "If the alien’s color is red, print a statement that the player just earned 5 points for shooting the alien.\n",
    "\n",
    "If the alien’s color isn’t green, print a statement that the player just earned 10 points.\n",
    "\n",
    "If the alien's color isn't red or green , print a statment :, Alien is no more....."
   ]
  },
  {
   "cell_type": "code",
   "execution_count": 95,
   "metadata": {},
   "outputs": [
    {
     "name": "stdout",
     "output_type": "stream",
     "text": [
      "Please Enter Alien color: pink\n",
      "You just earned 10 points for shooting the alien.\n"
     ]
    }
   ],
   "source": [
    "alien_color = input('Please Enter Alien color: ')\n",
    "if alien_color == 'red' or alien_color == 'Red':\n",
    "    print('You just earned 5 points for shooting the alien.')\n",
    "elif alien_color != 'green':\n",
    "    print('You just earned 10 points for shooting the alien.')\n",
    "else:\n",
    "    print('Alien is no more.')"
   ]
  },
  {
   "cell_type": "code",
   "execution_count": 96,
   "metadata": {},
   "outputs": [
    {
     "name": "stdout",
     "output_type": "stream",
     "text": [
      "Please Enter Alien color: red\n",
      "You just earned 5 points for shooting the alien.\n"
     ]
    }
   ],
   "source": [
    "alien_color = input('Please Enter Alien color: ')\n",
    "if alien_color == 'red' or alien_color == 'Red':\n",
    "    print('You just earned 5 points for shooting the alien.')\n",
    "elif alien_color != 'green':\n",
    "    print('You just earned 10 points for shooting the alien.')\n",
    "else:\n",
    "    print('Alien is no more.')"
   ]
  },
  {
   "cell_type": "code",
   "execution_count": 97,
   "metadata": {},
   "outputs": [
    {
     "name": "stdout",
     "output_type": "stream",
     "text": [
      "Please Enter Alien color: Red\n",
      "You just earned 5 points for shooting the alien.\n"
     ]
    }
   ],
   "source": [
    "alien_color = input('Please Enter Alien color: ')\n",
    "if alien_color == 'red' or alien_color == 'Red':\n",
    "    print('You just earned 5 points for shooting the alien.')\n",
    "elif alien_color != 'green':\n",
    "    print('You just earned 10 points for shooting the alien.')\n",
    "else:\n",
    "    print('Alien is no more.')"
   ]
  },
  {
   "cell_type": "code",
   "execution_count": null,
   "metadata": {},
   "outputs": [],
   "source": []
  },
  {
   "cell_type": "markdown",
   "metadata": {},
   "source": [
    "# Q10:"
   ]
  },
  {
   "cell_type": "markdown",
   "metadata": {},
   "source": [
    "Write an if-elif-else chain that determines a person’s\n",
    "stage of life. Set a value for the variable age, and then:\n",
    "    \n",
    "•\t If the person is less than 2 years old, print a message that the person is a baby.\n",
    "\n",
    "•\t If the person is at least 2 years old but less than 4, print a message that the person is a toddler.\n",
    "\n",
    "•\t If the person is at least 4 years old but less than 13, print a message that the person is a kid.\n",
    "\n",
    "•\t If the person is at least 13 years old but less than 20, print a message that the person is a teenager.\n",
    "\n",
    "•\t If the person is at least 20 years old but less than 65, print a message that the person is an adult.\n",
    "\n",
    "•\t If the person is age 65 or older, print a message that the person is an elder."
   ]
  },
  {
   "cell_type": "code",
   "execution_count": 9,
   "metadata": {},
   "outputs": [
    {
     "name": "stdout",
     "output_type": "stream",
     "text": [
      "Enter your age: 1\n",
      "The person is baby.\n"
     ]
    }
   ],
   "source": [
    "age_determiner = int(input('Enter your age: '))\n",
    "if age_determiner < 2:\n",
    "    print('The person is baby.')\n",
    "elif age_determiner >= 2 and age_determiner < 4:\n",
    "    print('The person is a toddler.')\n",
    "elif age_determiner >= 4 and age_determiner < 13:\n",
    "    print('The person is a kid.')\n",
    "elif age_determiner >= 13 and age_determiner < 20:\n",
    "    print('The person is Teenager.')\n",
    "elif age_determiner >= 20 and age_determiner < 65:\n",
    "    print('The person is adult.')\n",
    "else:\n",
    "    print('The person is an elder.')"
   ]
  },
  {
   "cell_type": "code",
   "execution_count": 24,
   "metadata": {},
   "outputs": [
    {
     "name": "stdout",
     "output_type": "stream",
     "text": [
      "Enter your age: 3\n",
      "The person is a toddler.\n"
     ]
    }
   ],
   "source": [
    "age_determiner = int(input('Enter your age: '))\n",
    "if age_determiner < 2:\n",
    "    print('The person is baby.')\n",
    "elif age_determiner >= 2 and age_determiner < 4:\n",
    "    print('The person is a toddler.')\n",
    "elif age_determiner >= 4 and age_determiner < 13:\n",
    "    print('The person is a kid.')\n",
    "elif age_determiner >= 13 and age_determiner < 20:\n",
    "    print('The person is Teenager.')\n",
    "elif age_determiner >= 20 and age_determiner < 65:\n",
    "    print('The person is adult.')\n",
    "else:\n",
    "    print('The person is an elder.')"
   ]
  },
  {
   "cell_type": "code",
   "execution_count": 22,
   "metadata": {},
   "outputs": [
    {
     "name": "stdout",
     "output_type": "stream",
     "text": [
      "Enter your age: 4\n",
      "The person is a kid.\n"
     ]
    }
   ],
   "source": [
    "age_determiner = int(input('Enter your age: '))\n",
    "if age_determiner < 2:\n",
    "    print('The person is baby.')\n",
    "elif age_determiner >= 2 and age_determiner < 4:\n",
    "    print('The person is a toddler.')\n",
    "elif age_determiner >= 4 and age_determiner < 13:\n",
    "    print('The person is a kid.')\n",
    "elif age_determiner >= 13 and age_determiner < 20:\n",
    "    print('The person is Teenager.')\n",
    "elif age_determiner >= 20 and age_determiner < 65:\n",
    "    print('The person is adult.')\n",
    "else:\n",
    "    print('The person is an elder.')"
   ]
  },
  {
   "cell_type": "code",
   "execution_count": 25,
   "metadata": {},
   "outputs": [
    {
     "name": "stdout",
     "output_type": "stream",
     "text": [
      "Enter your age: 14\n",
      "The person is Teenager.\n"
     ]
    }
   ],
   "source": [
    "age_determiner = int(input('Enter your age: '))\n",
    "if age_determiner < 2:\n",
    "    print('The person is baby.')\n",
    "elif age_determiner >= 2 and age_determiner < 4:\n",
    "    print('The person is a toddler.')\n",
    "elif age_determiner >= 4 and age_determiner < 13:\n",
    "    print('The person is a kid.')\n",
    "elif age_determiner >= 13 and age_determiner < 20:\n",
    "    print('The person is Teenager.')\n",
    "elif age_determiner >= 20 and age_determiner < 65:\n",
    "    print('The person is adult.')\n",
    "else:\n",
    "    print('The person is an elder.')"
   ]
  },
  {
   "cell_type": "code",
   "execution_count": 26,
   "metadata": {},
   "outputs": [
    {
     "name": "stdout",
     "output_type": "stream",
     "text": [
      "Enter your age: 35\n",
      "The person is adult.\n"
     ]
    }
   ],
   "source": [
    "age_determiner = int(input('Enter your age: '))\n",
    "if age_determiner < 2:\n",
    "    print('The person is baby.')\n",
    "elif age_determiner >= 2 and age_determiner < 4:\n",
    "    print('The person is a toddler.')\n",
    "elif age_determiner >= 4 and age_determiner < 13:\n",
    "    print('The person is a kid.')\n",
    "elif age_determiner >= 13 and age_determiner < 20:\n",
    "    print('The person is Teenager.')\n",
    "elif age_determiner >= 20 and age_determiner < 65:\n",
    "    print('The person is adult.')\n",
    "else:\n",
    "    print('The person is an elder.')"
   ]
  },
  {
   "cell_type": "code",
   "execution_count": 28,
   "metadata": {},
   "outputs": [
    {
     "name": "stdout",
     "output_type": "stream",
     "text": [
      "Enter your age: 66\n",
      "The person is an elder.\n"
     ]
    }
   ],
   "source": [
    "age_determiner = int(input('Enter your age: '))\n",
    "if age_determiner < 2:\n",
    "    print('The person is baby.')\n",
    "elif age_determiner >= 2 and age_determiner < 4:\n",
    "    print('The person is a toddler.')\n",
    "elif age_determiner >= 4 and age_determiner < 13:\n",
    "    print('The person is a kid.')\n",
    "elif age_determiner >= 13 and age_determiner < 20:\n",
    "    print('The person is Teenager.')\n",
    "elif age_determiner >= 20 and age_determiner < 65:\n",
    "    print('The person is adult.')\n",
    "else:\n",
    "    print('The person is an elder.')"
   ]
  },
  {
   "cell_type": "markdown",
   "metadata": {},
   "source": [
    "# Q11:"
   ]
  },
  {
   "cell_type": "markdown",
   "metadata": {},
   "source": [
    "Do the following to create a program that simulates how websites ensure that everyone has a unique username.\n",
    "\n",
    "•\t Make a list of five or more usernames called current_users.\n",
    "\n",
    "•\t Make another list of five usernames called new_users. \n",
    "Make sure one or two of the new usernames are also in the current_users list.\n",
    "\n",
    "•\t Loop through the new_users list to see if each new username has already been used. \n",
    "If it has, print a message that the person will need to enter a new username. \n",
    "If a username has not been used, print a message saying that the username is available.\n",
    "\n",
    "•\t Make sure your comparison is case insensitive. If 'John' has been used, 'JOHN' should not be accepted."
   ]
  },
  {
   "cell_type": "code",
   "execution_count": 38,
   "metadata": {},
   "outputs": [],
   "source": [
    "current_users =['Neeraj', 'Ali', 'Ahmed', 'Ayesha', 'Sana']\n",
    "new_users = ['Neeraj', 'Ayesha', 'Noor', 'Muhammad', 'Rakesh', 'Fatima', 'Hanesh', 'Raja']"
   ]
  },
  {
   "cell_type": "code",
   "execution_count": 41,
   "metadata": {},
   "outputs": [
    {
     "name": "stdout",
     "output_type": "stream",
     "text": [
      " Neeraj:This person is available\n",
      " Ayesha:This person is available\n",
      " Noor:You need to change your user name\n",
      " Muhammad:You need to change your user name\n",
      " Rakesh:You need to change your user name\n",
      " Fatima:You need to change your user name\n",
      " Hanesh:You need to change your user name\n",
      " Raja:You need to change your user name\n"
     ]
    }
   ],
   "source": [
    "for i in new_users:\n",
    "    if i in current_users:\n",
    "        print(f' {i}:This person is available')\n",
    "    else:\n",
    "        print(f' {i}:You need to change your user name')\n"
   ]
  },
  {
   "cell_type": "code",
   "execution_count": null,
   "metadata": {},
   "outputs": [],
   "source": []
  },
  {
   "cell_type": "code",
   "execution_count": null,
   "metadata": {},
   "outputs": [],
   "source": []
  },
  {
   "cell_type": "markdown",
   "metadata": {},
   "source": [
    "# Q12:"
   ]
  },
  {
   "cell_type": "markdown",
   "metadata": {},
   "source": [
    "Use a dictionary to store information about a person you know.\n",
    "Store their first name, last name, age, and the city in which they live. \n",
    "You should have keys such as first_name, last_name, age, and city. \n",
    "Print each piece of information stored in your dictionary"
   ]
  },
  {
   "cell_type": "code",
   "execution_count": 17,
   "metadata": {},
   "outputs": [
    {
     "data": {
      "text/plain": [
       "{'first_name': 'Rakesh Kumar',\n",
       " 'last_name': 'Kanyia',\n",
       " 'age': 28,\n",
       " 'city': 'karachi'}"
      ]
     },
     "execution_count": 17,
     "metadata": {},
     "output_type": "execute_result"
    }
   ],
   "source": [
    "dic = {'first_name': 'Rakesh Kumar', 'last_name': 'Kanyia', 'age' : 28, 'city': 'karachi'}\n",
    "dic"
   ]
  },
  {
   "cell_type": "code",
   "execution_count": 20,
   "metadata": {},
   "outputs": [
    {
     "data": {
      "text/plain": [
       "'Rakesh Kumar'"
      ]
     },
     "execution_count": 20,
     "metadata": {},
     "output_type": "execute_result"
    }
   ],
   "source": [
    "dic['first_name']"
   ]
  },
  {
   "cell_type": "code",
   "execution_count": 21,
   "metadata": {},
   "outputs": [
    {
     "data": {
      "text/plain": [
       "'Kanyia'"
      ]
     },
     "execution_count": 21,
     "metadata": {},
     "output_type": "execute_result"
    }
   ],
   "source": [
    "dic['last_name']"
   ]
  },
  {
   "cell_type": "code",
   "execution_count": 22,
   "metadata": {},
   "outputs": [
    {
     "data": {
      "text/plain": [
       "28"
      ]
     },
     "execution_count": 22,
     "metadata": {},
     "output_type": "execute_result"
    }
   ],
   "source": [
    "dic['age']"
   ]
  },
  {
   "cell_type": "markdown",
   "metadata": {},
   "source": [
    "# Q13:"
   ]
  },
  {
   "cell_type": "markdown",
   "metadata": {},
   "source": [
    "Starts with your last question 12 , loop through the dictionary’s keys and values.\n",
    "When you’re sure that your loop works, add five more Python terms to your\n",
    "dictionary . When you run your program again, these new words and meanings\n",
    "should automatically be included in the output."
   ]
  },
  {
   "cell_type": "code",
   "execution_count": 24,
   "metadata": {},
   "outputs": [
    {
     "name": "stdout",
     "output_type": "stream",
     "text": [
      "first_name\n",
      "last_name\n",
      "age\n",
      "city\n",
      "Rakesh Kumar\n",
      "Kanyia\n",
      "28\n",
      "karachi\n"
     ]
    }
   ],
   "source": [
    "for keys in dic.keys():\n",
    "    print(keys)\n",
    "for val in dic.values():\n",
    "    print(val)"
   ]
  },
  {
   "cell_type": "code",
   "execution_count": 25,
   "metadata": {},
   "outputs": [
    {
     "name": "stdout",
     "output_type": "stream",
     "text": [
      "first_name Rakesh Kumar\n",
      "last_name Kanyia\n",
      "age 28\n",
      "city karachi\n"
     ]
    }
   ],
   "source": [
    "for k,v in dic.items():\n",
    "    print(k,v)"
   ]
  },
  {
   "cell_type": "code",
   "execution_count": null,
   "metadata": {},
   "outputs": [],
   "source": []
  },
  {
   "cell_type": "code",
   "execution_count": null,
   "metadata": {},
   "outputs": [],
   "source": []
  },
  {
   "cell_type": "code",
   "execution_count": null,
   "metadata": {},
   "outputs": [],
   "source": []
  },
  {
   "cell_type": "markdown",
   "metadata": {},
   "source": [
    "# Q14:"
   ]
  },
  {
   "cell_type": "markdown",
   "metadata": {},
   "source": [
    "Make a dictionary containing three major rivers and the country\n",
    "each river runs through. One key-value pair might be 'nile': 'egypt'.\n",
    "    \n",
    "    \n",
    "•\t Use a loop to print a sentence about each river, such as The Nile runs\n",
    "through Egypt.\n",
    "\n",
    "NOTE: use upper case through keys and values."
   ]
  },
  {
   "cell_type": "code",
   "execution_count": 43,
   "metadata": {},
   "outputs": [
    {
     "name": "stdout",
     "output_type": "stream",
     "text": [
      "The Indus River runs through Pakistan\n",
      "The Nile runs through Egypt\n",
      "The Amazon River runs through Brazil\n",
      "The Yellow River runs through China\n"
     ]
    }
   ],
   "source": [
    "rivers = {'Indus River':'Pakistan','Nile':'Egypt','Amazon River':'Brazil','Yellow River':'China'}\n",
    "for k,v in rivers.items():\n",
    "    print(f'The {k} runs through {v}')"
   ]
  },
  {
   "cell_type": "code",
   "execution_count": null,
   "metadata": {},
   "outputs": [],
   "source": []
  },
  {
   "cell_type": "code",
   "execution_count": null,
   "metadata": {},
   "outputs": [],
   "source": []
  },
  {
   "cell_type": "markdown",
   "metadata": {},
   "source": [
    "# Q15:"
   ]
  },
  {
   "cell_type": "markdown",
   "metadata": {},
   "source": [
    "Make several dictionaries, where the name of each dictionary is the\n",
    "name of a pet. In each dictionary, include the kind of animal and the owner’s\n",
    "name. Store these dictionaries in a list called pets. Next, loop through your list\n",
    "and as you do print everything you know about each pet."
   ]
  },
  {
   "cell_type": "code",
   "execution_count": 56,
   "metadata": {},
   "outputs": [
    {
     "name": "stdout",
     "output_type": "stream",
     "text": [
      "Animal type = Cat\n",
      "Animal type = Radhika\n",
      "\n",
      "\n",
      "Animal type = Goat\n",
      "Animal type = Sagar\n",
      "\n",
      "\n",
      "Animal type = Dog\n",
      "Animal type = Mohsin\n",
      "\n",
      "\n"
     ]
    }
   ],
   "source": [
    "pets= []\n",
    "pet = {'Animal type': 'Cat', 'Owner name': 'Radhika'}\n",
    "pets.append(pet)\n",
    "pet = {'Animal type': 'Goat', 'Owner name': 'Sagar'}\n",
    "pets.append(pet)\n",
    "pet = {'Animal type': 'Dog', 'Owner name': 'Mohsin'}\n",
    "pets.append(pet)\n",
    "for i in pets:\n",
    "    for key,values in i.items():\n",
    "        print(f'{keys} = {values}')\n",
    "    print(\"\\n\")"
   ]
  },
  {
   "cell_type": "code",
   "execution_count": null,
   "metadata": {},
   "outputs": [],
   "source": []
  },
  {
   "cell_type": "code",
   "execution_count": null,
   "metadata": {},
   "outputs": [],
   "source": []
  }
 ],
 "metadata": {
  "kernelspec": {
   "display_name": "Python 3",
   "language": "python",
   "name": "python3"
  },
  "language_info": {
   "codemirror_mode": {
    "name": "ipython",
    "version": 3
   },
   "file_extension": ".py",
   "mimetype": "text/x-python",
   "name": "python",
   "nbconvert_exporter": "python",
   "pygments_lexer": "ipython3",
   "version": "3.7.3"
  }
 },
 "nbformat": 4,
 "nbformat_minor": 2
}
