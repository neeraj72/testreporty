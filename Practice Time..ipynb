{
 "cells": [
  {
   "cell_type": "code",
   "execution_count": 1,
   "metadata": {},
   "outputs": [
    {
     "name": "stdout",
     "output_type": "stream",
     "text": [
      "Ada Lovelave\n"
     ]
    }
   ],
   "source": [
    "name = 'ada lovelave'\n",
    "print(name.title())"
   ]
  },
  {
   "cell_type": "code",
   "execution_count": 2,
   "metadata": {},
   "outputs": [
    {
     "name": "stdout",
     "output_type": "stream",
     "text": [
      "ADA LOVELAVE\n"
     ]
    }
   ],
   "source": [
    "name = 'ada lovelave'\n",
    "print(name.upper())"
   ]
  },
  {
   "cell_type": "code",
   "execution_count": 3,
   "metadata": {},
   "outputs": [
    {
     "name": "stdout",
     "output_type": "stream",
     "text": [
      "ada lovelave\n"
     ]
    }
   ],
   "source": [
    "name = 'ada lovelave'\n",
    "print(name.lower())"
   ]
  },
  {
   "cell_type": "code",
   "execution_count": 4,
   "metadata": {},
   "outputs": [
    {
     "name": "stdout",
     "output_type": "stream",
     "text": [
      "Enter a message.he is good boy\n",
      "He Is Good Boy\n"
     ]
    }
   ],
   "source": [
    "message = input('Enter a message.')\n",
    "print(message.title())"
   ]
  },
  {
   "cell_type": "code",
   "execution_count": 11,
   "metadata": {},
   "outputs": [
    {
     "name": "stdout",
     "output_type": "stream",
     "text": [
      "Neeraj Kumar\n",
      "Hello Neeraj Kumar!\n"
     ]
    }
   ],
   "source": [
    "first_name = 'neeraj'\n",
    "last_name = 'kumar'\n",
    "\n",
    "full_name = first_name + \" \" +last_name\n",
    "print(full_name.title())\n",
    "print('Hello' +\" \"+ full_name.title()+'!')"
   ]
  },
  {
   "cell_type": "code",
   "execution_count": 12,
   "metadata": {},
   "outputs": [
    {
     "name": "stdout",
     "output_type": "stream",
     "text": [
      "Hello Neeraj Kumar would you like to learn some python today? \n"
     ]
    }
   ],
   "source": [
    "name = 'neeraj kumar'\n",
    "print(f'Hello {name.title()} would you like to learn some python today? ')"
   ]
  },
  {
   "cell_type": "code",
   "execution_count": 15,
   "metadata": {},
   "outputs": [
    {
     "name": "stdout",
     "output_type": "stream",
     "text": [
      "Enter auther name: albert einstin\n",
      "Albert Einstin once said, 'A person who never made a mistake never tried anything new'\n"
     ]
    }
   ],
   "source": [
    "auther = input('Enter auther name: ')\n",
    "print(f'{auther.title()} once said, \\'A person who never made a mistake never tried anything new\\'')"
   ]
  },
  {
   "cell_type": "code",
   "execution_count": 17,
   "metadata": {},
   "outputs": [
    {
     "name": "stdout",
     "output_type": "stream",
     "text": [
      "Albert Einstein, once said, 'A person who never made a mistake never tried anything new'\n"
     ]
    }
   ],
   "source": [
    "auther = 'albert einstein'\n",
    "messege = 'once said, \\'A person who never made a mistake never tried anything new\\''\n",
    "print(f'{auther.title()}, {messege}')"
   ]
  },
  {
   "cell_type": "code",
   "execution_count": 19,
   "metadata": {},
   "outputs": [
    {
     "name": "stdout",
     "output_type": "stream",
     "text": [
      "\tNeeraj Kumar\t\n"
     ]
    }
   ],
   "source": [
    "print('\\t' + name.title() + '\\t')"
   ]
  },
  {
   "cell_type": "code",
   "execution_count": 22,
   "metadata": {},
   "outputs": [
    {
     "name": "stdout",
     "output_type": "stream",
     "text": [
      "Happy 23rd Birthday\n"
     ]
    }
   ],
   "source": [
    "age = 23\n",
    "message = 'Happy' + \" \" + str(age) + 'rd Birthday'\n",
    "print(message)"
   ]
  },
  {
   "cell_type": "code",
   "execution_count": 24,
   "metadata": {},
   "outputs": [
    {
     "name": "stdout",
     "output_type": "stream",
     "text": [
      "8\n",
      "8\n",
      "8\n",
      "8.0\n"
     ]
    }
   ],
   "source": [
    "print(5 + 3)\n",
    "print(2 * 4)\n",
    "print(16-8)\n",
    "print(16/2)"
   ]
  },
  {
   "cell_type": "code",
   "execution_count": 33,
   "metadata": {},
   "outputs": [
    {
     "name": "stdout",
     "output_type": "stream",
     "text": [
      "Hi, do you want to learn some python Neeraj\n",
      "Hi, do you want to learn some python Ahmed\n",
      "Hi, do you want to learn some python Faisal\n",
      "Hi, do you want to learn some python Amir\n"
     ]
    }
   ],
   "source": [
    "name = ['Neeraj', 'Ahmed', 'Faisal','Amir']\n",
    "for i in name:\n",
    "    print(f'Hi, do you want to learn some python {i}')"
   ]
  },
  {
   "cell_type": "code",
   "execution_count": 25,
   "metadata": {},
   "outputs": [
    {
     "name": "stdout",
     "output_type": "stream",
     "text": [
      "i would like to own a motorcycle. ['Car', 'Bike', 'Bicycle', 'Bus']\n"
     ]
    }
   ],
   "source": [
    "transportation = ['Car', 'Bike', 'Bicycle', 'Bus']\n",
    "print(f'i would like to own a motorcycle. {transportation}' )"
   ]
  },
  {
   "cell_type": "code",
   "execution_count": 26,
   "metadata": {},
   "outputs": [
    {
     "name": "stdout",
     "output_type": "stream",
     "text": [
      "i would like to own a Bike.\n"
     ]
    }
   ],
   "source": [
    "print(f'i would like to own a {transportation[1]}.')"
   ]
  },
  {
   "cell_type": "code",
   "execution_count": 27,
   "metadata": {},
   "outputs": [],
   "source": [
    "transportation[0]= 'civic'"
   ]
  },
  {
   "cell_type": "code",
   "execution_count": 28,
   "metadata": {},
   "outputs": [
    {
     "name": "stdout",
     "output_type": "stream",
     "text": [
      "['civic', 'Bike', 'Bicycle', 'Bus']\n"
     ]
    }
   ],
   "source": [
    "print(transportation)"
   ]
  },
  {
   "cell_type": "code",
   "execution_count": 29,
   "metadata": {},
   "outputs": [
    {
     "name": "stdout",
     "output_type": "stream",
     "text": [
      "['civic', 'Bike', 'Bicycle', 'Bus', 'daucti']\n"
     ]
    }
   ],
   "source": [
    "transportation.append('daucti')\n",
    "print(transportation)"
   ]
  },
  {
   "cell_type": "code",
   "execution_count": 5,
   "metadata": {},
   "outputs": [
    {
     "name": "stdout",
     "output_type": "stream",
     "text": [
      "['adil', 'mohit', 'sagar']\n",
      "please invite Adil for dinner\n"
     ]
    }
   ],
   "source": [
    "invitation_list = ['adil', 'mohit', 'sagar']\n",
    "print(invitation_list)\n",
    "inviting = []\n",
    "inviting = invitation_list.pop(0)\n",
    "print(f'please invite {inviting.title()} for dinner')\n"
   ]
  },
  {
   "cell_type": "code",
   "execution_count": 6,
   "metadata": {},
   "outputs": [
    {
     "name": "stdout",
     "output_type": "stream",
     "text": [
      "Sagar does not want to make dinner with ['mohit']\n"
     ]
    }
   ],
   "source": [
    "inviting = invitation_list.pop(1)\n",
    "#print(f'please invite {inviting.title()} for dinner')\n",
    "print(f'{inviting.title()} does not want to make dinner with {invitation_list}')\n"
   ]
  },
  {
   "cell_type": "code",
   "execution_count": 7,
   "metadata": {},
   "outputs": [
    {
     "name": "stdout",
     "output_type": "stream",
     "text": [
      "['mohit']\n",
      "['Hanesh', 'Avinash']\n",
      " Please send invitation to sagar to make dinner with ['Hanesh', 'Avinash']\n"
     ]
    }
   ],
   "source": [
    "print(invitation_list)\n",
    "invitation_list[0] = 'Avinash'\n",
    "invitation_list.insert(0, 'Hanesh')\n",
    "print(invitation_list)\n",
    "print(f' Please send invitation to {inviting} to make dinner with {invitation_list}')"
   ]
  },
  {
   "cell_type": "code",
   "execution_count": 8,
   "metadata": {},
   "outputs": [
    {
     "name": "stdout",
     "output_type": "stream",
     "text": [
      "we found a big dinner table so let's call some other persons\n"
     ]
    }
   ],
   "source": [
    "print('we found a big dinner table so let\\'s call some other persons')\n",
    "invitation_list.insert(0, 'ashish')\n",
    "invitation_list.insert(2, 'Rohit')\n",
    "invitation_list.append('Arjun')"
   ]
  },
  {
   "cell_type": "code",
   "execution_count": 9,
   "metadata": {},
   "outputs": [
    {
     "name": "stdout",
     "output_type": "stream",
     "text": [
      "['ashish', 'Hanesh', 'Rohit', 'Avinash', 'Arjun'] please come and join us\n"
     ]
    }
   ],
   "source": [
    "print(f'{invitation_list} please come and join us')"
   ]
  },
  {
   "cell_type": "code",
   "execution_count": 14,
   "metadata": {},
   "outputs": [
    {
     "name": "stdout",
     "output_type": "stream",
     "text": [
      "i just invite 5 persons for dinner\n"
     ]
    }
   ],
   "source": [
    "print(f'i just invite {len(invitation_list)} persons for dinner')"
   ]
  },
  {
   "cell_type": "code",
   "execution_count": null,
   "metadata": {},
   "outputs": [],
   "source": []
  },
  {
   "cell_type": "code",
   "execution_count": null,
   "metadata": {},
   "outputs": [],
   "source": []
  },
  {
   "cell_type": "code",
   "execution_count": null,
   "metadata": {},
   "outputs": [],
   "source": []
  },
  {
   "cell_type": "code",
   "execution_count": null,
   "metadata": {},
   "outputs": [],
   "source": []
  },
  {
   "cell_type": "code",
   "execution_count": 124,
   "metadata": {},
   "outputs": [
    {
     "name": "stdout",
     "output_type": "stream",
     "text": [
      "I can only invite just two persons due to\n"
     ]
    }
   ],
   "source": [
    "print('I can only invite just two persons due to')"
   ]
  },
  {
   "cell_type": "code",
   "execution_count": 125,
   "metadata": {},
   "outputs": [
    {
     "name": "stdout",
     "output_type": "stream",
     "text": [
      "['Rohit', 'Avinash', 'Arjun']\n",
      "Hanesh\n"
     ]
    }
   ],
   "source": [
    "invitation_list.pop(0)\n",
    "not_allowed = [] \n",
    "not_allowed = invitation_list.pop(0)\n",
    "\n",
    "print(invitation_list)\n",
    "print(not_allowed)"
   ]
  },
  {
   "cell_type": "code",
   "execution_count": 131,
   "metadata": {},
   "outputs": [
    {
     "name": "stdout",
     "output_type": "stream",
     "text": [
      "sorry we can't allowed you Mr: Hanesh to take dinner with us due to small table of dinner\n",
      "you are ['Rohit', 'Avinash', 'Arjun'] still invited\n"
     ]
    }
   ],
   "source": [
    "print(f'sorry we can\\'t allowed you Mr: {not_allowed} to take dinner with us due to small table of dinner')\n",
    "print(f'you are {invitation_list} still invited')"
   ]
  },
  {
   "cell_type": "code",
   "execution_count": 3,
   "metadata": {},
   "outputs": [
    {
     "name": "stdout",
     "output_type": "stream",
     "text": [
      "['Suwarg dham reharki sahib', 'australia', 'co-maree', 'islamabad', 'naraingagar', 'quetta']\n"
     ]
    }
   ],
   "source": [
    "world = ['australia', 'islamabad', 'naraingagar', 'quetta', 'co-maree', 'Suwarg dham reharki sahib']\n",
    "world.sort()\n",
    "print(world)"
   ]
  },
  {
   "cell_type": "code",
   "execution_count": 4,
   "metadata": {},
   "outputs": [
    {
     "name": "stdout",
     "output_type": "stream",
     "text": [
      "['quetta', 'naraingagar', 'islamabad', 'co-maree', 'australia', 'Suwarg dham reharki sahib']\n"
     ]
    }
   ],
   "source": [
    "world.reverse()\n",
    "print(world)"
   ]
  },
  {
   "cell_type": "code",
   "execution_count": 16,
   "metadata": {},
   "outputs": [],
   "source": [
    "pizza = ['pizza garllic', 'pizza sea food', 'chiken cheese pizza']"
   ]
  },
  {
   "cell_type": "code",
   "execution_count": 21,
   "metadata": {},
   "outputs": [
    {
     "name": "stdout",
     "output_type": "stream",
     "text": [
      "i like pizza garllic\n",
      "i like pizza sea food\n",
      "i like chiken cheese pizza\n",
      "i love pizza\n"
     ]
    }
   ],
   "source": [
    "for i in pizza:\n",
    "    #print(i)\n",
    "    print(f'i like {i}')\n",
    "print('i love pizza')"
   ]
  },
  {
   "cell_type": "code",
   "execution_count": 31,
   "metadata": {},
   "outputs": [
    {
     "name": "stdout",
     "output_type": "stream",
     "text": [
      "a cat would be a great pet.\n",
      "\n",
      "a tiger would be a great pet.\n",
      "\n",
      "a lion would be a great pet.\n",
      "\n",
      "All of the animals are same just by their faces.\n"
     ]
    }
   ],
   "source": [
    "animals = ['cat', 'tiger', 'lion']\n",
    "for i in animals:\n",
    "    print(f'a {i} would be a great pet.\\n')\n",
    "print('All of the animals are same just by their faces.')"
   ]
  },
  {
   "cell_type": "code",
   "execution_count": 32,
   "metadata": {},
   "outputs": [
    {
     "name": "stdout",
     "output_type": "stream",
     "text": [
      "1\n",
      "2\n",
      "3\n",
      "4\n",
      "5\n",
      "6\n",
      "7\n",
      "8\n",
      "9\n",
      "10\n",
      "11\n",
      "12\n",
      "13\n",
      "14\n",
      "15\n",
      "16\n",
      "17\n",
      "18\n",
      "19\n",
      "20\n"
     ]
    }
   ],
   "source": [
    "for i in range(1,21):\n",
    "    print(i)"
   ]
  },
  {
   "cell_type": "code",
   "execution_count": 1,
   "metadata": {},
   "outputs": [
    {
     "name": "stdout",
     "output_type": "stream",
     "text": [
      "1\n"
     ]
    },
    {
     "ename": "TypeError",
     "evalue": "'int' object is not iterable",
     "output_type": "error",
     "traceback": [
      "\u001b[1;31m---------------------------------------------------------------------------\u001b[0m",
      "\u001b[1;31mTypeError\u001b[0m                                 Traceback (most recent call last)",
      "\u001b[1;32m<ipython-input-1-fc5583f12a22>\u001b[0m in \u001b[0;36m<module>\u001b[1;34m\u001b[0m\n\u001b[0;32m      1\u001b[0m \u001b[1;32mfor\u001b[0m \u001b[0mi\u001b[0m \u001b[1;32min\u001b[0m \u001b[0mrange\u001b[0m\u001b[1;33m(\u001b[0m\u001b[1;36m1\u001b[0m\u001b[1;33m,\u001b[0m\u001b[1;36m1000000\u001b[0m\u001b[1;33m)\u001b[0m\u001b[1;33m:\u001b[0m\u001b[1;33m\u001b[0m\u001b[1;33m\u001b[0m\u001b[0m\n\u001b[0;32m      2\u001b[0m     \u001b[0mprint\u001b[0m\u001b[1;33m(\u001b[0m\u001b[0mi\u001b[0m\u001b[1;33m)\u001b[0m\u001b[1;33m\u001b[0m\u001b[1;33m\u001b[0m\u001b[0m\n\u001b[1;32m----> 3\u001b[1;33m     \u001b[0mprint\u001b[0m\u001b[1;33m(\u001b[0m\u001b[0mmax\u001b[0m\u001b[1;33m(\u001b[0m\u001b[0mi\u001b[0m\u001b[1;33m)\u001b[0m\u001b[1;33m)\u001b[0m\u001b[1;33m\u001b[0m\u001b[1;33m\u001b[0m\u001b[0m\n\u001b[0m",
      "\u001b[1;31mTypeError\u001b[0m: 'int' object is not iterable"
     ]
    }
   ],
   "source": [
    "for i in range(1,1000000):\n",
    "    print(i)\n",
    "    max"
   ]
  },
  {
   "cell_type": "code",
   "execution_count": null,
   "metadata": {},
   "outputs": [],
   "source": []
  }
 ],
 "metadata": {
  "kernelspec": {
   "display_name": "Python 3",
   "language": "python",
   "name": "python3"
  }
 },
 "nbformat": 4,
 "nbformat_minor": 2
}
